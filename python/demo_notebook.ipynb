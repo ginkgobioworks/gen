{
 "cells": [
  {
   "cell_type": "markdown",
   "metadata": {},
   "source": [
    "# Gen Python API Tutorial\n",
    "\n",
    "This notebook demonstrates how to use the Gen Python API for graph-based genomic data management with git-like versioning capabilities."
   ]
  },
  {
   "cell_type": "markdown",
   "metadata": {},
   "source": [
    "## Setup and Initialization\n",
    "\n",
    "First, let's import the necessary modules and initialize a repository."
   ]
  },
  {
   "cell_type": "code",
   "execution_count": 1,
   "metadata": {},
   "outputs": [
    {
     "name": "stderr",
     "output_type": "stream",
     "text": [
      "/Users/bvh/Git/gen/python/gen/__init__.py:22: UserWarning: Failed to import Gen modules: cannot import name 'get_gen_dir' from 'gen.gen' (/Users/bvh/Git/gen/python/gen/gen.abi3.so)\n",
      "  warnings.warn(f\"Failed to import Gen modules: {e}\")\n",
      "/Users/bvh/Git/gen/python/gen/__init__.py:26: UserWarning: Package directory contents: ['__init__.py', '__pycache__', 'helpers.py', 'gen.abi3.so']\n",
      "  warnings.warn(f\"Package directory contents: {os.listdir(package_dir)}\")\n"
     ]
    }
   ],
   "source": [
    "import gen"
   ]
  },
  {
   "cell_type": "markdown",
   "metadata": {},
   "source": []
  },
  {
   "cell_type": "code",
   "execution_count": 2,
   "metadata": {},
   "outputs": [
    {
     "name": "stdout",
     "output_type": "stream",
     "text": [
      "Default database path: /Users/bvh/Git/gen/.gen/gen.db\n",
      "Repository initialized with database at: /Users/bvh/Git/gen/.gen/default.db\n"
     ]
    }
   ],
   "source": [
    "import gen\n",
    "from gen.helpers import Repository\n",
    "\n",
    "# Get the default database path\n",
    "default_db_path = gen.get_gen_db_path()\n",
    "print(f\"Default database path: {default_db_path}\")\n",
    "\n",
    "# Open a repository from the default path\n",
    "repo = Repository()\n",
    "print(f\"Repository initialized with database at: {repo.db_path}\")"
   ]
  },
  {
   "cell_type": "markdown",
   "metadata": {},
   "source": [
    "## Working with Graphs\n",
    "\n",
    "Gen organizes genomic data in graphs. Let's explore how to access and work with graphs."
   ]
  },
  {
   "cell_type": "code",
   "execution_count": 3,
   "metadata": {},
   "outputs": [
    {
     "name": "stdout",
     "output_type": "stream",
     "text": [
      "Available collections:\n",
      "- default\n",
      "- default/foo\n",
      "\n",
      "Loaded graph: <gen.helpers.Graph object at 0x105d05fd0>\n",
      "\n",
      "Graph has 3 nodes and 2 edges\n"
     ]
    }
   ],
   "source": [
    "# List all available collections\n",
    "collections = repo.query(\"SELECT DISTINCT collection_name FROM block_groups\")\n",
    "print(\"Available collections:\")\n",
    "for collection in collections:\n",
    "    print(f\"- {collection[0]}\")\n",
    "\n",
    "# If there are collections available, get the first one\n",
    "collection_name = collections[0][0] if collections else None\n",
    "\n",
    "if collection_name:\n",
    "    # Get a graph from the collection\n",
    "    graph = repo.get_graph(collection_name=collection_name)\n",
    "    print(f\"\\nLoaded graph: {graph}\")\n",
    "    \n",
    "    # Get graph as dictionary\n",
    "    graph_dict = graph.as_dict()\n",
    "    print(f\"\\nGraph has {len(graph_dict.get('nodes', []))} nodes and {len(graph_dict.get('edges', []))} edges\")\n",
    "else:\n",
    "    print(\"\\nNo collections available. You need to create or import a graph first.\")"
   ]
  },
  {
   "cell_type": "markdown",
   "metadata": {},
   "source": [
    "## Direct SQL Queries\n",
    "\n",
    "Gen allows direct SQL queries to the underlying database."
   ]
  },
  {
   "cell_type": "code",
   "execution_count": 5,
   "metadata": {},
   "outputs": [
    {
     "name": "stdout",
     "output_type": "stream",
     "text": [
      "Number of block groups: \n",
      "Node statistics: Count=, Min ID=, Max ID=\n"
     ]
    }
   ],
   "source": [
    "# Execute a query that doesn't return results\n",
    "# repo.execute(\"CREATE INDEX IF NOT EXISTS idx_nodes_block_id ON nodes(block_id)\")\n",
    "\n",
    "# Query that returns results\n",
    "\n",
    "# BUG: no queries return indices \n",
    "result = repo.query(\"SELECT COUNT(*) FROM block_groups\")\n",
    "print(f\"Number of block groups: {result[0][0]}\")\n",
    "\n"
   ]
  },
  {
   "cell_type": "code",
   "execution_count": 8,
   "metadata": {},
   "outputs": [
    {
     "data": {
      "text/plain": [
       "[['', 'default', 'NULL', 'm123'],\n",
       " ['', 'default', 'unknown', 'm123'],\n",
       " ['', 'default', 'G1', 'm123'],\n",
       " ['', 'default', 'foo', 'm123'],\n",
       " ['', 'default', 'test', 'm123'],\n",
       " ['', 'default/foo', 'NULL', 'm123']]"
      ]
     },
     "execution_count": 8,
     "metadata": {},
     "output_type": "execute_result"
    }
   ],
   "source": [
    "repo.query(\"SELECT * FROM block_groups\")"
   ]
  },
  {
   "cell_type": "markdown",
   "metadata": {},
   "source": [
    "## Graph Visualization\n",
    "\n",
    "Gen provides tools for visualizing graphs. Let's create a layout for a graph."
   ]
  },
  {
   "cell_type": "code",
   "execution_count": 10,
   "metadata": {},
   "outputs": [
    {
     "data": {
      "text/plain": [
       "{}"
      ]
     },
     "execution_count": 10,
     "metadata": {},
     "output_type": "execute_result"
    }
   ],
   "source": [
    "# BUG: edge_positions is empty\n",
    "edge_positions"
   ]
  },
  {
   "cell_type": "code",
   "execution_count": 9,
   "metadata": {},
   "outputs": [
    {
     "name": "stdout",
     "output_type": "stream",
     "text": [
      "Created layout for graph\n",
      "\n",
      "Node positions (first 3):\n",
      "Node (3, 2, 0, 0): position ((115.0, 0.0), (115.0, 0.0))\n",
      "Node (0, 3, 0, 34): position ((41.0, 0.0), (75.0, 0.0))\n",
      "Node (2, 1, 0, 0): position ((1.0, 0.0), (1.0, 0.0))\n",
      "\n",
      "Edge positions (first 3):\n",
      "\n",
      "Expanded layout to the right\n",
      "\n",
      "Layout dictionary keys: ['label_width', 'scale', 'aspect_ratio', 'nodes', 'edges']\n"
     ]
    }
   ],
   "source": [
    "if collection_name:\n",
    "    # Create a layout for the graph\n",
    "    layout = graph.create_layout()\n",
    "    print(f\"Created layout for graph\")\n",
    "    \n",
    "    # Create a scaled layout for visualization\n",
    "    layout.create_scaled_layout(label_width=100, scale=20)\n",
    "    \n",
    "    # Get node positions (now returns a dictionary)\n",
    "    node_positions = layout.get_node_positions()\n",
    "    print(f\"\\nNode positions (first 3):\")\n",
    "    for i, (node_id, pos) in enumerate(list(node_positions.items())[:3]):\n",
    "        print(f\"Node {node_id}: position {pos}\")\n",
    "    \n",
    "    # Get edge positions (now returns a dictionary)\n",
    "    edge_positions = layout.get_edge_positions()\n",
    "    print(f\"\\nEdge positions (first 3):\")\n",
    "    for i, (edge_id, pos) in enumerate(list(edge_positions.items())[:3]):\n",
    "        print(f\"Edge {edge_id}: positions {pos}\")\n",
    "    \n",
    "    # Expand the layout\n",
    "    layout.expand_right()\n",
    "    print(\"\\nExpanded layout to the right\")\n",
    "    \n",
    "    # Convert layout to dictionary\n",
    "    layout_dict = layout.to_dict()\n",
    "    print(f\"\\nLayout dictionary keys: {list(layout_dict.keys())}\")"
   ]
  },
  {
   "cell_type": "markdown",
   "metadata": {},
   "source": [
    "## Working with RustWorkX\n",
    "\n",
    "Gen can convert graphs to RustWorkX format for additional analysis."
   ]
  },
  {
   "cell_type": "code",
   "execution_count": null,
   "metadata": {},
   "outputs": [],
   "source": [
    "try:\n",
    "    import rustworkx as rx\n",
    "    \n",
    "    if collection_name:\n",
    "        # Convert to RustWorkX graph\n",
    "        rx_graph = graph.as_rustworkx()\n",
    "        print(f\"Converted to RustWorkX graph with {rx_graph.num_nodes()} nodes and {rx_graph.num_edges()} edges\")\n",
    "        \n",
    "        # Analyze the graph\n",
    "        if rx_graph.num_nodes() > 0:\n",
    "            # Get node degrees\n",
    "            degrees = [rx_graph.degree(i) for i in range(rx_graph.num_nodes())]\n",
    "            avg_degree = sum(degrees) / len(degrees) if degrees else 0\n",
    "            print(f\"Average node degree: {avg_degree:.2f}\")\n",
    "            \n",
    "            # Check if graph is connected\n",
    "            components = rx.connected_components(rx_graph)\n",
    "            print(f\"Number of connected components: {len(components)}\")\n",
    "except ImportError:\n",
    "    print(\"RustWorkX not installed. Install with: pip install rustworkx\")"
   ]
  },
  {
   "cell_type": "markdown",
   "metadata": {},
   "source": [
    "## Conclusion\n",
    "\n",
    "This notebook demonstrated the basic functionality of the Gen Python API. You can use these tools to manage and analyze genomic data in a graph-based format with version control capabilities."
   ]
  }
 ],
 "metadata": {
  "kernelspec": {
   "display_name": ".venv",
   "language": "python",
   "name": "python3"
  },
  "language_info": {
   "codemirror_mode": {
    "name": "ipython",
    "version": 3
   },
   "file_extension": ".py",
   "mimetype": "text/x-python",
   "name": "python",
   "nbconvert_exporter": "python",
   "pygments_lexer": "ipython3",
   "version": "3.12.9"
  }
 },
 "nbformat": 4,
 "nbformat_minor": 4
}
