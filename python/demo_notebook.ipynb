{
 "cells": [
  {
   "cell_type": "code",
   "execution_count": 1,
   "metadata": {},
   "outputs": [
    {
     "data": {
      "text/plain": [
       "[['default', 'NULL', 'm123'],\n",
       " ['default', 'unknown', 'm123'],\n",
       " ['default', 'G1', 'm123'],\n",
       " ['default', 'foo', 'm123']]"
      ]
     },
     "execution_count": 1,
     "metadata": {},
     "output_type": "execute_result"
    }
   ],
   "source": [
    "import gen\n",
    "\n",
    "db = gen.Database(\"../.gen/default.db\")\n",
    "\n",
    "db.query(\"SELECT collection_name, sample_name, name FROM block_groups\")"
   ]
  },
  {
   "cell_type": "code",
   "execution_count": 5,
   "metadata": {},
   "outputs": [
    {
     "data": {
      "text/plain": [
       "[((8, 1, 0, 0), ((1.0, 2.0), (1.0, 2.0))),\n",
       " ((1, 3, 0, 3), ((5.0, 2.0), (8.0, 2.0))),\n",
       " ((2, 3, 3, 5), ((12.0, 0.0), (14.0, 0.0))),\n",
       " ((0, 4, 0, 1), ((13.0, 4.0), (14.0, 4.0))),\n",
       " ((6, 8, 0, 4), ((26.0, 4.0), (30.0, 4.0))),\n",
       " ((5, 3, 11, 34), ((34.0, 2.0), (57.0, 2.0))),\n",
       " ((9, 2, 0, 0), ((61.0, 2.0), (61.0, 2.0))),\n",
       " ((4, 3, 9, 11), ((27.0, 0.0), (29.0, 0.0))),\n",
       " ((3, 3, 5, 9), ((18.0, 2.0), (22.0, 2.0)))]"
      ]
     },
     "execution_count": 5,
     "metadata": {},
     "output_type": "execute_result"
    }
   ],
   "source": [
    "# Directly from Rust\n",
    "layout = gen.BaseLayout.from_graph(db, block_group_id=2)\n",
    "layout.create_scaled_layout(label_width=200, scale=2)\\\n",
    "      .get_node_positions()"
   ]
  },
  {
   "cell_type": "code",
   "execution_count": 4,
   "metadata": {},
   "outputs": [
    {
     "data": {
      "text/plain": [
       "[((5, 3, 11, 34), ((34.0, 2.0), (57.0, 2.0))),\n",
       " ((8, 1, 0, 0), ((1.0, 2.0), (1.0, 2.0))),\n",
       " ((4, 3, 9, 11), ((27.0, 0.0), (29.0, 0.0))),\n",
       " ((9, 2, 0, 0), ((61.0, 2.0), (61.0, 2.0))),\n",
       " ((1, 3, 0, 3), ((5.0, 2.0), (8.0, 2.0))),\n",
       " ((2, 3, 3, 5), ((12.0, 0.0), (14.0, 0.0))),\n",
       " ((6, 8, 0, 4), ((26.0, 4.0), (30.0, 4.0))),\n",
       " ((3, 3, 5, 9), ((18.0, 2.0), (22.0, 2.0))),\n",
       " ((0, 4, 0, 1), ((13.0, 4.0), (14.0, 4.0)))]"
      ]
     },
     "execution_count": 4,
     "metadata": {},
     "output_type": "execute_result"
    }
   ],
   "source": [
    "# Through Python intermediate layer\n",
    "layout = gen.GraphLayout(\"../.gen/default.db\", \n",
    "                         block_group_id=2)\n",
    "layout.create_scaled_layout(label_width=200, scale=2).get_node_positions()"
   ]
  }
 ],
 "metadata": {
  "kernelspec": {
   "display_name": ".venv",
   "language": "python",
   "name": "python3"
  },
  "language_info": {
   "codemirror_mode": {
    "name": "ipython",
    "version": 3
   },
   "file_extension": ".py",
   "mimetype": "text/x-python",
   "name": "python",
   "nbconvert_exporter": "python",
   "pygments_lexer": "ipython3",
   "version": "3.12.9"
  }
 },
 "nbformat": 4,
 "nbformat_minor": 2
}
