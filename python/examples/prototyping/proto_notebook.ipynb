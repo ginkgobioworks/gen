{
 "cells": [
  {
   "cell_type": "code",
   "execution_count": 1,
   "metadata": {},
   "outputs": [],
   "source": [
    "import gen\n",
    "import networkx as nx\n",
    "import matplotlib.pyplot as plt\n"
   ]
  },
  {
   "cell_type": "code",
   "execution_count": 2,
   "metadata": {},
   "outputs": [
    {
     "ename": "IndexError",
     "evalue": "list index out of range",
     "output_type": "error",
     "traceback": [
      "\u001b[0;31m---------------------------------------------------------------------------\u001b[0m",
      "\u001b[0;31mIndexError\u001b[0m                                Traceback (most recent call last)",
      "Cell \u001b[0;32mIn[2], line 2\u001b[0m\n\u001b[1;32m      1\u001b[0m repo \u001b[38;5;241m=\u001b[39m gen\u001b[38;5;241m.\u001b[39mRepository()\n\u001b[0;32m----> 2\u001b[0m bg \u001b[38;5;241m=\u001b[39m \u001b[43mrepo\u001b[49m\u001b[38;5;241;43m.\u001b[39;49m\u001b[43mget_block_groups_by_collection\u001b[49m\u001b[43m(\u001b[49m\u001b[38;5;124;43m'\u001b[39;49m\u001b[38;5;124;43mdefault\u001b[39;49m\u001b[38;5;124;43m'\u001b[39;49m\u001b[43m)\u001b[49m\u001b[43m[\u001b[49m\u001b[38;5;241;43m0\u001b[39;49m\u001b[43m]\u001b[49m\n\u001b[1;32m      3\u001b[0m base_layout \u001b[38;5;241m=\u001b[39m repo\u001b[38;5;241m.\u001b[39mcreate_base_layout(bg)\n\u001b[1;32m      6\u001b[0m scaled_layout \u001b[38;5;241m=\u001b[39m base_layout\u001b[38;5;241m.\u001b[39mcreate_scaled_layout(\u001b[38;5;241m2\u001b[39m, \u001b[38;5;241m2\u001b[39m)\n",
      "\u001b[0;31mIndexError\u001b[0m: list index out of range"
     ]
    }
   ],
   "source": [
    "repo = gen.Repository()\n",
    "bg = repo.get_block_groups_by_collection('default')[0]\n",
    "base_layout = repo.create_base_layout(bg)\n",
    "\n",
    "\n",
    "scaled_layout = base_layout.create_scaled_layout(2, 2)\n",
    "node_positions = scaled_layout.get_node_positions()\n",
    "G = repo.block_group_to_networkx(bg)\n",
    "G = nx.convert_node_labels_to_integers(G, label_attribute='block_multi_id')\n",
    "\n"
   ]
  },
  {
   "cell_type": "code",
   "execution_count": null,
   "metadata": {},
   "outputs": [],
   "source": []
  },
  {
   "cell_type": "code",
   "execution_count": 5,
   "metadata": {},
   "outputs": [
    {
     "data": {
      "text/plain": [
       "{(6, 21, 0, 1): 14,\n",
       " (14, 25, 0, 1): 16,\n",
       " (7, 19, 0, 1): 13,\n",
       " (28, 2, 0, 0): 19,\n",
       " (15, 9, 0, 1): 6,\n",
       " (16, 18, 0, 2): 12,\n",
       " (3, 26, 0, 1): 17,\n",
       " (13, 13, 0, 1): 9,\n",
       " (0, 15, 0, 3): 10,\n",
       " (25, 27, 0, 1): 17,\n",
       " (11, 3, 0, 1): 2,\n",
       " (10, 4, 0, 1): 3,\n",
       " (9, 17, 0, 1): 11,\n",
       " (17, 14, 0, 1): 9,\n",
       " (27, 1, 0, 0): 1,\n",
       " (8, 22, 0, 1): 15,\n",
       " (19, 23, 0, 1): 15,\n",
       " (18, 8, 0, 1): 6,\n",
       " (23, 11, 0, 1): 7,\n",
       " (2, 16, 0, 1): 11,\n",
       " (24, 5, 0, 1): 4,\n",
       " (20, 28, 0, 2955): 18,\n",
       " (1, 7, 0, 1): 5,\n",
       " (22, 20, 0, 1): 13,\n",
       " (5, 24, 0, 1): 16,\n",
       " (12, 6, 0, 1): 4,\n",
       " (21, 12, 0, 10): 8,\n",
       " (4, 10, 0, 1): 7}"
      ]
     },
     "execution_count": 5,
     "metadata": {},
     "output_type": "execute_result"
    }
   ],
   "source": [
    "base_layout.get_ranks()\n",
    "\n"
   ]
  },
  {
   "cell_type": "code",
   "execution_count": 51,
   "metadata": {},
   "outputs": [
    {
     "data": {
      "text/plain": [
       "{(22, 11, 0, 1): ((24.0, 0.0), (25.0, 0.0)),\n",
       " (24, 20, 0, 1): ((48.0, 4.0), (49.0, 4.0)),\n",
       " (15, 22, 0, 1): ((56.0, 0.0), (57.0, 0.0)),\n",
       " (20, 28, 0, 2955): ((68.0, 2.0), (69.0, 2.0)),\n",
       " (9, 19, 0, 1): ((48.0, 0.0), (49.0, 0.0)),\n",
       " (16, 18, 0, 2): ((44.0, 2.0), (45.0, 2.0)),\n",
       " (25, 27, 0, 1): ((64.0, 4.0), (65.0, 4.0)),\n",
       " (18, 23, 0, 1): ((56.0, 4.0), (57.0, 4.0)),\n",
       " (13, 25, 0, 1): ((60.0, 0.0), (61.0, 0.0)),\n",
       " (8, 9, 0, 1): ((20.0, 0.0), (21.0, 0.0)),\n",
       " (0, 15, 0, 3): ((36.0, 2.0), (37.0, 2.0)),\n",
       " (12, 13, 0, 1): ((32.0, 0.0), (33.0, 0.0)),\n",
       " (11, 17, 0, 1): ((40.0, 4.0), (41.0, 4.0)),\n",
       " (6, 26, 0, 1): ((64.0, 0.0), (65.0, 0.0)),\n",
       " (28, 2, 0, 0): ((72.0, 2.0), (73.0, 2.0)),\n",
       " (7, 3, 0, 1): ((4.0, 4.0), (5.0, 4.0)),\n",
       " (14, 4, 0, 1): ((8.0, 2.0), (9.0, 2.0)),\n",
       " (27, 1, 0, 0): ((0.0, 2.0), (1.0, 2.0)),\n",
       " (19, 8, 0, 1): ((20.0, 4.0), (21.0, 4.0)),\n",
       " (17, 14, 0, 1): ((32.0, 4.0), (33.0, 4.0)),\n",
       " (23, 5, 0, 1): ((12.0, 4.0), (13.0, 4.0)),\n",
       " (1, 16, 0, 1): ((40.0, 0.0), (41.0, 0.0)),\n",
       " (10, 6, 0, 1): ((12.0, 0.0), (13.0, 0.0)),\n",
       " (2, 24, 0, 1): ((60.0, 4.0), (61.0, 4.0)),\n",
       " (4, 7, 0, 1): ((16.0, 2.0), (17.0, 2.0)),\n",
       " (5, 21, 0, 1): ((52.0, 2.0), (53.0, 2.0)),\n",
       " (21, 12, 0, 10): ((28.0, 0.0), (29.0, 0.0)),\n",
       " (3, 10, 0, 1): ((24.0, 4.0), (25.0, 4.0))}"
      ]
     },
     "execution_count": 51,
     "metadata": {},
     "output_type": "execute_result"
    }
   ],
   "source": [
    "scaled_layout.get_node_positions()"
   ]
  },
  {
   "cell_type": "code",
   "execution_count": 43,
   "metadata": {},
   "outputs": [],
   "source": [
    "import itertools, string\n",
    "\n",
    "def label_iterator():\n",
    "    n = 1  # Start with 1 character\n",
    "    while True:\n",
    "        for label in itertools.product(string.ascii_uppercase, repeat=n):\n",
    "            yield ''.join(label)\n",
    "        n += 1  # Increase the length of the labels\n",
    "\n"
   ]
  },
  {
   "cell_type": "code",
   "execution_count": 45,
   "metadata": {},
   "outputs": [
    {
     "ename": "NameError",
     "evalue": "name 'Gr' is not defined",
     "output_type": "error",
     "traceback": [
      "\u001b[0;31m---------------------------------------------------------------------------\u001b[0m",
      "\u001b[0;31mNameError\u001b[0m                                 Traceback (most recent call last)",
      "Cell \u001b[0;32mIn[45], line 1\u001b[0m\n\u001b[0;32m----> 1\u001b[0m \u001b[43mGr\u001b[49m\u001b[38;5;241m.\u001b[39mcovert_node_labels_to_integers()\n",
      "\u001b[0;31mNameError\u001b[0m: name 'Gr' is not defined"
     ]
    }
   ],
   "source": [
    "Gr.covert_node_labels_to_integers()"
   ]
  },
  {
   "cell_type": "code",
   "execution_count": 21,
   "metadata": {},
   "outputs": [],
   "source": [
    "G = nx.DiGraph()\n",
    "iterator = label_iterator()\n",
    "\n",
    "for (block, node, block_start, block_end), (pos1, pos2) in G_rs.nodes(data=True), mode_positions.items():\n",
    "    attr = {\n",
    "        'block_id': block,\n",
    "        'node_id': node,\n",
    "        'start': block_start,\n",
    "        'end': block_end,\n",
    "        'left': pos1,\n",
    "        'right': pos2,\n",
    "    }\n",
    "    ## add the left node, right node, and the edge between them\n",
    "    G.add_node(next(iterator), attr)\n",
    "    G.add_node(next(iterator), attr)\n",
    "    G.add_edge(next(iterator), next(iterator))\n",
    "\n",
    "\n",
    "\n",
    "\n",
    "\n",
    "\n",
    "\n"
   ]
  },
  {
   "cell_type": "code",
   "execution_count": null,
   "metadata": {},
   "outputs": [],
   "source": []
  },
  {
   "cell_type": "code",
   "execution_count": 24,
   "metadata": {},
   "outputs": [],
   "source": [
    "from networkx.algorithms.approximation.steinertree import steiner_tree\n",
    "\n",
    "steiner_tree(G, [])"
   ]
  },
  {
   "cell_type": "code",
   "execution_count": 20,
   "metadata": {},
   "outputs": [
    {
     "ename": "NetworkXError",
     "evalue": "Node (0, 325, 0, 1) has no position.",
     "output_type": "error",
     "traceback": [
      "\u001b[0;31m---------------------------------------------------------------------------\u001b[0m",
      "\u001b[0;31mKeyError\u001b[0m                                  Traceback (most recent call last)",
      "File \u001b[0;32m~/Git/gen/.venv/lib/python3.9/site-packages/networkx/drawing/nx_pylab.py:429\u001b[0m, in \u001b[0;36mdraw_networkx_nodes\u001b[0;34m(G, pos, nodelist, node_size, node_color, node_shape, alpha, cmap, vmin, vmax, ax, linewidths, edgecolors, label, margins)\u001b[0m\n\u001b[1;32m    428\u001b[0m \u001b[38;5;28;01mtry\u001b[39;00m:\n\u001b[0;32m--> 429\u001b[0m     xy \u001b[38;5;241m=\u001b[39m np\u001b[38;5;241m.\u001b[39masarray([pos[v] \u001b[38;5;28;01mfor\u001b[39;00m v \u001b[38;5;129;01min\u001b[39;00m nodelist])\n\u001b[1;32m    430\u001b[0m \u001b[38;5;28;01mexcept\u001b[39;00m \u001b[38;5;167;01mKeyError\u001b[39;00m \u001b[38;5;28;01mas\u001b[39;00m err:\n",
      "File \u001b[0;32m~/Git/gen/.venv/lib/python3.9/site-packages/networkx/drawing/nx_pylab.py:429\u001b[0m, in \u001b[0;36m<listcomp>\u001b[0;34m(.0)\u001b[0m\n\u001b[1;32m    428\u001b[0m \u001b[38;5;28;01mtry\u001b[39;00m:\n\u001b[0;32m--> 429\u001b[0m     xy \u001b[38;5;241m=\u001b[39m np\u001b[38;5;241m.\u001b[39masarray([\u001b[43mpos\u001b[49m\u001b[43m[\u001b[49m\u001b[43mv\u001b[49m\u001b[43m]\u001b[49m \u001b[38;5;28;01mfor\u001b[39;00m v \u001b[38;5;129;01min\u001b[39;00m nodelist])\n\u001b[1;32m    430\u001b[0m \u001b[38;5;28;01mexcept\u001b[39;00m \u001b[38;5;167;01mKeyError\u001b[39;00m \u001b[38;5;28;01mas\u001b[39;00m err:\n",
      "\u001b[0;31mKeyError\u001b[0m: (0, 325, 0, 1)",
      "\nThe above exception was the direct cause of the following exception:\n",
      "\u001b[0;31mNetworkXError\u001b[0m                             Traceback (most recent call last)",
      "Cell \u001b[0;32mIn[20], line 10\u001b[0m\n\u001b[1;32m      7\u001b[0m     plt\u001b[38;5;241m.\u001b[39mshow()\n\u001b[1;32m      9\u001b[0m \u001b[38;5;66;03m# Visualize the graph with straight edges\u001b[39;00m\n\u001b[0;32m---> 10\u001b[0m \u001b[43mplot_graph_straight_edges\u001b[49m\u001b[43m(\u001b[49m\u001b[43mG\u001b[49m\u001b[43m)\u001b[49m\n",
      "Cell \u001b[0;32mIn[20], line 4\u001b[0m, in \u001b[0;36mplot_graph_straight_edges\u001b[0;34m(Gi)\u001b[0m\n\u001b[1;32m      2\u001b[0m plt\u001b[38;5;241m.\u001b[39mfigure(figsize\u001b[38;5;241m=\u001b[39m(\u001b[38;5;241m10\u001b[39m, \u001b[38;5;241m8\u001b[39m))\n\u001b[1;32m      3\u001b[0m pos \u001b[38;5;241m=\u001b[39m nx\u001b[38;5;241m.\u001b[39mget_node_attributes(G, \u001b[38;5;124m'\u001b[39m\u001b[38;5;124mpos\u001b[39m\u001b[38;5;124m'\u001b[39m)\n\u001b[0;32m----> 4\u001b[0m \u001b[43mnx\u001b[49m\u001b[38;5;241;43m.\u001b[39;49m\u001b[43mdraw\u001b[49m\u001b[43m(\u001b[49m\u001b[43mG\u001b[49m\u001b[43m,\u001b[49m\u001b[43m \u001b[49m\u001b[43mpos\u001b[49m\u001b[43m,\u001b[49m\u001b[43m \u001b[49m\u001b[43mwith_labels\u001b[49m\u001b[38;5;241;43m=\u001b[39;49m\u001b[38;5;28;43;01mTrue\u001b[39;49;00m\u001b[43m,\u001b[49m\u001b[43m \u001b[49m\u001b[43mnode_size\u001b[49m\u001b[38;5;241;43m=\u001b[39;49m\u001b[38;5;241;43m500\u001b[39;49m\u001b[43m,\u001b[49m\u001b[43m \u001b[49m\u001b[43mnode_color\u001b[49m\u001b[38;5;241;43m=\u001b[39;49m\u001b[38;5;124;43m'\u001b[39;49m\u001b[38;5;124;43mlightblue\u001b[39;49m\u001b[38;5;124;43m'\u001b[39;49m\u001b[43m,\u001b[49m\u001b[43m \u001b[49m\n\u001b[1;32m      5\u001b[0m \u001b[43m        \u001b[49m\u001b[43mfont_weight\u001b[49m\u001b[38;5;241;43m=\u001b[39;49m\u001b[38;5;124;43m'\u001b[39;49m\u001b[38;5;124;43mbold\u001b[39;49m\u001b[38;5;124;43m'\u001b[39;49m\u001b[43m,\u001b[49m\u001b[43m \u001b[49m\u001b[43marrowsize\u001b[49m\u001b[38;5;241;43m=\u001b[39;49m\u001b[38;5;241;43m15\u001b[39;49m\u001b[43m)\u001b[49m\n\u001b[1;32m      6\u001b[0m plt\u001b[38;5;241m.\u001b[39mtitle(\u001b[38;5;124m\"\u001b[39m\u001b[38;5;124mGraph with Straight Edges\u001b[39m\u001b[38;5;124m\"\u001b[39m)\n\u001b[1;32m      7\u001b[0m plt\u001b[38;5;241m.\u001b[39mshow()\n",
      "File \u001b[0;32m~/Git/gen/.venv/lib/python3.9/site-packages/networkx/drawing/nx_pylab.py:121\u001b[0m, in \u001b[0;36mdraw\u001b[0;34m(G, pos, ax, **kwds)\u001b[0m\n\u001b[1;32m    118\u001b[0m \u001b[38;5;28;01mif\u001b[39;00m \u001b[38;5;124m\"\u001b[39m\u001b[38;5;124mwith_labels\u001b[39m\u001b[38;5;124m\"\u001b[39m \u001b[38;5;129;01mnot\u001b[39;00m \u001b[38;5;129;01min\u001b[39;00m kwds:\n\u001b[1;32m    119\u001b[0m     kwds[\u001b[38;5;124m\"\u001b[39m\u001b[38;5;124mwith_labels\u001b[39m\u001b[38;5;124m\"\u001b[39m] \u001b[38;5;241m=\u001b[39m \u001b[38;5;124m\"\u001b[39m\u001b[38;5;124mlabels\u001b[39m\u001b[38;5;124m\"\u001b[39m \u001b[38;5;129;01min\u001b[39;00m kwds\n\u001b[0;32m--> 121\u001b[0m \u001b[43mdraw_networkx\u001b[49m\u001b[43m(\u001b[49m\u001b[43mG\u001b[49m\u001b[43m,\u001b[49m\u001b[43m \u001b[49m\u001b[43mpos\u001b[49m\u001b[38;5;241;43m=\u001b[39;49m\u001b[43mpos\u001b[49m\u001b[43m,\u001b[49m\u001b[43m \u001b[49m\u001b[43max\u001b[49m\u001b[38;5;241;43m=\u001b[39;49m\u001b[43max\u001b[49m\u001b[43m,\u001b[49m\u001b[43m \u001b[49m\u001b[38;5;241;43m*\u001b[39;49m\u001b[38;5;241;43m*\u001b[39;49m\u001b[43mkwds\u001b[49m\u001b[43m)\u001b[49m\n\u001b[1;32m    122\u001b[0m ax\u001b[38;5;241m.\u001b[39mset_axis_off()\n\u001b[1;32m    123\u001b[0m plt\u001b[38;5;241m.\u001b[39mdraw_if_interactive()\n",
      "File \u001b[0;32m~/Git/gen/.venv/lib/python3.9/site-packages/networkx/drawing/nx_pylab.py:304\u001b[0m, in \u001b[0;36mdraw_networkx\u001b[0;34m(G, pos, arrows, with_labels, **kwds)\u001b[0m\n\u001b[1;32m    301\u001b[0m \u001b[38;5;28;01mif\u001b[39;00m pos \u001b[38;5;129;01mis\u001b[39;00m \u001b[38;5;28;01mNone\u001b[39;00m:\n\u001b[1;32m    302\u001b[0m     pos \u001b[38;5;241m=\u001b[39m nx\u001b[38;5;241m.\u001b[39mdrawing\u001b[38;5;241m.\u001b[39mspring_layout(G)  \u001b[38;5;66;03m# default to spring layout\u001b[39;00m\n\u001b[0;32m--> 304\u001b[0m \u001b[43mdraw_networkx_nodes\u001b[49m\u001b[43m(\u001b[49m\u001b[43mG\u001b[49m\u001b[43m,\u001b[49m\u001b[43m \u001b[49m\u001b[43mpos\u001b[49m\u001b[43m,\u001b[49m\u001b[43m \u001b[49m\u001b[38;5;241;43m*\u001b[39;49m\u001b[38;5;241;43m*\u001b[39;49m\u001b[43mnode_kwds\u001b[49m\u001b[43m)\u001b[49m\n\u001b[1;32m    305\u001b[0m draw_networkx_edges(G, pos, arrows\u001b[38;5;241m=\u001b[39marrows, \u001b[38;5;241m*\u001b[39m\u001b[38;5;241m*\u001b[39medge_kwds)\n\u001b[1;32m    306\u001b[0m \u001b[38;5;28;01mif\u001b[39;00m with_labels:\n",
      "File \u001b[0;32m~/Git/gen/.venv/lib/python3.9/site-packages/networkx/drawing/nx_pylab.py:431\u001b[0m, in \u001b[0;36mdraw_networkx_nodes\u001b[0;34m(G, pos, nodelist, node_size, node_color, node_shape, alpha, cmap, vmin, vmax, ax, linewidths, edgecolors, label, margins)\u001b[0m\n\u001b[1;32m    429\u001b[0m     xy \u001b[38;5;241m=\u001b[39m np\u001b[38;5;241m.\u001b[39masarray([pos[v] \u001b[38;5;28;01mfor\u001b[39;00m v \u001b[38;5;129;01min\u001b[39;00m nodelist])\n\u001b[1;32m    430\u001b[0m \u001b[38;5;28;01mexcept\u001b[39;00m \u001b[38;5;167;01mKeyError\u001b[39;00m \u001b[38;5;28;01mas\u001b[39;00m err:\n\u001b[0;32m--> 431\u001b[0m     \u001b[38;5;28;01mraise\u001b[39;00m nx\u001b[38;5;241m.\u001b[39mNetworkXError(\u001b[38;5;124mf\u001b[39m\u001b[38;5;124m\"\u001b[39m\u001b[38;5;124mNode \u001b[39m\u001b[38;5;132;01m{\u001b[39;00merr\u001b[38;5;132;01m}\u001b[39;00m\u001b[38;5;124m has no position.\u001b[39m\u001b[38;5;124m\"\u001b[39m) \u001b[38;5;28;01mfrom\u001b[39;00m\u001b[38;5;250m \u001b[39m\u001b[38;5;21;01merr\u001b[39;00m\n\u001b[1;32m    433\u001b[0m \u001b[38;5;28;01mif\u001b[39;00m \u001b[38;5;28misinstance\u001b[39m(alpha, Iterable):\n\u001b[1;32m    434\u001b[0m     node_color \u001b[38;5;241m=\u001b[39m apply_alpha(node_color, alpha, nodelist, cmap, vmin, vmax)\n",
      "\u001b[0;31mNetworkXError\u001b[0m: Node (0, 325, 0, 1) has no position."
     ]
    },
    {
     "data": {
      "image/png": "[encoded data removed]",
      "text/plain": [
       "<Figure size 1000x800 with 1 Axes>"
      ]
     },
     "metadata": {},
     "output_type": "display_data"
    }
   ],
   "source": [
    "def plot_graph_straight_edges(Gi):\n",
    "    plt.figure(figsize=(10, 8))\n",
    "    pos = nx.get_node_attributes(G, 'pos')\n",
    "    nx.draw(G, pos, with_labels=True, node_size=500, node_color='lightblue', \n",
    "            font_weight='bold', arrowsize=15)\n",
    "    plt.title(\"Graph with Straight Edges\")\n",
    "    plt.show()\n",
    "\n",
    "# Visualize the graph with straight edges\n",
    "plot_graph_straight_edges(G)"
   ]
  },
  {
   "cell_type": "code",
   "execution_count": 38,
   "metadata": {},
   "outputs": [
    {
     "ename": "SyntaxError",
     "evalue": "invalid syntax (2173675926.py, line 4)",
     "output_type": "error",
     "traceback": [
      "\u001b[0;36m  Cell \u001b[0;32mIn[38], line 4\u001b[0;36m\u001b[0m\n\u001b[0;31m    node_positions = repo.\u001b[0m\n\u001b[0m                          ^\u001b[0m\n\u001b[0;31mSyntaxError\u001b[0m\u001b[0;31m:\u001b[0m invalid syntax\n"
     ]
    }
   ],
   "source": [
    "\n",
    "\n",
    "g\n",
    "\n",
    "# Add nodes with positions\n",
    "node_positions = repo.\n",
    "\n",
    "# Add nodes with position attributes\n",
    "for node, pos in node_positions.items():\n",
    "    G.add_node(node, pos=pos)\n",
    "\n",
    "# Add some edges\n",
    "G.add_edge('A', 'B')\n",
    "G.add_edge('A', 'C')\n",
    "G.add_edge('B', 'C')\n",
    "G.add_edge('A', 'D')\n",
    "G.add_edge('D', 'E')\n",
    "G.add_edge('C', 'E')\n",
    "\n",
    "# Function to visualize the graph with straight edges\n",
    "def plot_graph_straight_edges(G):\n",
    "    plt.figure(figsize=(10, 8))\n",
    "    pos = nx.get_node_attributes(G, 'pos')\n",
    "    nx.draw(G, pos, with_labels=True, node_size=500, node_color='lightblue', \n",
    "            font_weight='bold', arrowsize=15)\n",
    "    plt.title(\"Graph with Straight Edges\")\n",
    "    plt.show()\n",
    "\n",
    "# Visualize the graph with straight edges\n",
    "plot_graph_straight_edges(G)"
   ]
  },
  {
   "cell_type": "code",
   "execution_count": 39,
   "metadata": {},
   "outputs": [
    {
     "ename": "NetworkXError",
     "evalue": "Node (0, 325, 0, 1) has no position.",
     "output_type": "error",
     "traceback": [
      "\u001b[0;31m---------------------------------------------------------------------------\u001b[0m",
      "\u001b[0;31mKeyError\u001b[0m                                  Traceback (most recent call last)",
      "File \u001b[0;32m~/Git/gen/.venv/lib/python3.9/site-packages/networkx/drawing/nx_pylab.py:429\u001b[0m, in \u001b[0;36mdraw_networkx_nodes\u001b[0;34m(G, pos, nodelist, node_size, node_color, node_shape, alpha, cmap, vmin, vmax, ax, linewidths, edgecolors, label, margins)\u001b[0m\n\u001b[1;32m    428\u001b[0m \u001b[38;5;28;01mtry\u001b[39;00m:\n\u001b[0;32m--> 429\u001b[0m     xy \u001b[38;5;241m=\u001b[39m np\u001b[38;5;241m.\u001b[39masarray([pos[v] \u001b[38;5;28;01mfor\u001b[39;00m v \u001b[38;5;129;01min\u001b[39;00m nodelist])\n\u001b[1;32m    430\u001b[0m \u001b[38;5;28;01mexcept\u001b[39;00m \u001b[38;5;167;01mKeyError\u001b[39;00m \u001b[38;5;28;01mas\u001b[39;00m err:\n",
      "File \u001b[0;32m~/Git/gen/.venv/lib/python3.9/site-packages/networkx/drawing/nx_pylab.py:429\u001b[0m, in \u001b[0;36m<listcomp>\u001b[0;34m(.0)\u001b[0m\n\u001b[1;32m    428\u001b[0m \u001b[38;5;28;01mtry\u001b[39;00m:\n\u001b[0;32m--> 429\u001b[0m     xy \u001b[38;5;241m=\u001b[39m np\u001b[38;5;241m.\u001b[39masarray([\u001b[43mpos\u001b[49m\u001b[43m[\u001b[49m\u001b[43mv\u001b[49m\u001b[43m]\u001b[49m \u001b[38;5;28;01mfor\u001b[39;00m v \u001b[38;5;129;01min\u001b[39;00m nodelist])\n\u001b[1;32m    430\u001b[0m \u001b[38;5;28;01mexcept\u001b[39;00m \u001b[38;5;167;01mKeyError\u001b[39;00m \u001b[38;5;28;01mas\u001b[39;00m err:\n",
      "\u001b[0;31mKeyError\u001b[0m: (0, 325, 0, 1)",
      "\nThe above exception was the direct cause of the following exception:\n",
      "\u001b[0;31mNetworkXError\u001b[0m                             Traceback (most recent call last)",
      "Cell \u001b[0;32mIn[39], line 58\u001b[0m\n\u001b[1;32m     55\u001b[0m     plt\u001b[38;5;241m.\u001b[39mshow()\n\u001b[1;32m     57\u001b[0m \u001b[38;5;66;03m# Visualize the graph with rectilinear edges\u001b[39;00m\n\u001b[0;32m---> 58\u001b[0m \u001b[43mplot_graph_rectilinear_edges\u001b[49m\u001b[43m(\u001b[49m\u001b[43mG\u001b[49m\u001b[43m)\u001b[49m\n",
      "Cell \u001b[0;32mIn[39], line 26\u001b[0m, in \u001b[0;36mplot_graph_rectilinear_edges\u001b[0;34m(G)\u001b[0m\n\u001b[1;32m     23\u001b[0m pos \u001b[38;5;241m=\u001b[39m nx\u001b[38;5;241m.\u001b[39mget_node_attributes(G, \u001b[38;5;124m'\u001b[39m\u001b[38;5;124mpos\u001b[39m\u001b[38;5;124m'\u001b[39m)\n\u001b[1;32m     25\u001b[0m \u001b[38;5;66;03m# Draw nodes\u001b[39;00m\n\u001b[0;32m---> 26\u001b[0m \u001b[43mnx\u001b[49m\u001b[38;5;241;43m.\u001b[39;49m\u001b[43mdraw_networkx_nodes\u001b[49m\u001b[43m(\u001b[49m\u001b[43mG\u001b[49m\u001b[43m,\u001b[49m\u001b[43m \u001b[49m\u001b[43mpos\u001b[49m\u001b[43m,\u001b[49m\u001b[43m \u001b[49m\u001b[43mnode_size\u001b[49m\u001b[38;5;241;43m=\u001b[39;49m\u001b[38;5;241;43m500\u001b[39;49m\u001b[43m,\u001b[49m\u001b[43m \u001b[49m\u001b[43mnode_color\u001b[49m\u001b[38;5;241;43m=\u001b[39;49m\u001b[38;5;124;43m'\u001b[39;49m\u001b[38;5;124;43mlightblue\u001b[39;49m\u001b[38;5;124;43m'\u001b[39;49m\u001b[43m)\u001b[49m\n\u001b[1;32m     27\u001b[0m nx\u001b[38;5;241m.\u001b[39mdraw_networkx_labels(G, pos, font_weight\u001b[38;5;241m=\u001b[39m\u001b[38;5;124m'\u001b[39m\u001b[38;5;124mbold\u001b[39m\u001b[38;5;124m'\u001b[39m)\n\u001b[1;32m     29\u001b[0m \u001b[38;5;66;03m# Create rectilinear paths\u001b[39;00m\n",
      "File \u001b[0;32m~/Git/gen/.venv/lib/python3.9/site-packages/networkx/drawing/nx_pylab.py:431\u001b[0m, in \u001b[0;36mdraw_networkx_nodes\u001b[0;34m(G, pos, nodelist, node_size, node_color, node_shape, alpha, cmap, vmin, vmax, ax, linewidths, edgecolors, label, margins)\u001b[0m\n\u001b[1;32m    429\u001b[0m     xy \u001b[38;5;241m=\u001b[39m np\u001b[38;5;241m.\u001b[39masarray([pos[v] \u001b[38;5;28;01mfor\u001b[39;00m v \u001b[38;5;129;01min\u001b[39;00m nodelist])\n\u001b[1;32m    430\u001b[0m \u001b[38;5;28;01mexcept\u001b[39;00m \u001b[38;5;167;01mKeyError\u001b[39;00m \u001b[38;5;28;01mas\u001b[39;00m err:\n\u001b[0;32m--> 431\u001b[0m     \u001b[38;5;28;01mraise\u001b[39;00m nx\u001b[38;5;241m.\u001b[39mNetworkXError(\u001b[38;5;124mf\u001b[39m\u001b[38;5;124m\"\u001b[39m\u001b[38;5;124mNode \u001b[39m\u001b[38;5;132;01m{\u001b[39;00merr\u001b[38;5;132;01m}\u001b[39;00m\u001b[38;5;124m has no position.\u001b[39m\u001b[38;5;124m\"\u001b[39m) \u001b[38;5;28;01mfrom\u001b[39;00m\u001b[38;5;250m \u001b[39m\u001b[38;5;21;01merr\u001b[39;00m\n\u001b[1;32m    433\u001b[0m \u001b[38;5;28;01mif\u001b[39;00m \u001b[38;5;28misinstance\u001b[39m(alpha, Iterable):\n\u001b[1;32m    434\u001b[0m     node_color \u001b[38;5;241m=\u001b[39m apply_alpha(node_color, alpha, nodelist, cmap, vmin, vmax)\n",
      "\u001b[0;31mNetworkXError\u001b[0m: Node (0, 325, 0, 1) has no position."
     ]
    },
    {
     "data": {
      "image/png": "[encoded data removed]",
      "text/plain": [
       "<Figure size 1000x800 with 1 Axes>"
      ]
     },
     "metadata": {},
     "output_type": "display_data"
    }
   ],
   "source": [
    "# Function to create rectilinear paths between nodes\n",
    "def create_rectilinear_paths(G):\n",
    "    rectilinear_paths = {}\n",
    "    pos = nx.get_node_attributes(G, 'pos')\n",
    "    \n",
    "    for u, v in G.edges():\n",
    "        # Get start and end positions\n",
    "        start_pos = pos[u]\n",
    "        end_pos = pos[v]\n",
    "        \n",
    "        # Create a simple L-shaped rectilinear path\n",
    "        # First go in x direction, then in y direction\n",
    "        mid_point = (end_pos[0], start_pos[1])\n",
    "        \n",
    "        # Store the path as a list of points\n",
    "        rectilinear_paths[(u, v)] = [start_pos, mid_point, end_pos]\n",
    "    \n",
    "    return rectilinear_paths\n",
    "\n",
    "# Function to visualize the graph with rectilinear edges\n",
    "def plot_graph_rectilinear_edges(G):\n",
    "    plt.figure(figsize=(10, 8))\n",
    "    pos = nx.get_node_attributes(G, 'pos')\n",
    "    \n",
    "    # Draw nodes\n",
    "    nx.draw_networkx_nodes(G, pos, node_size=500, node_color='lightblue')\n",
    "    nx.draw_networkx_labels(G, pos, font_weight='bold')\n",
    "    \n",
    "    # Create rectilinear paths\n",
    "    paths = create_rectilinear_paths(G)\n",
    "    \n",
    "    # Draw rectilinear edges\n",
    "    for (u, v), path in paths.items():\n",
    "        # Draw the path segments\n",
    "        for i in range(len(path) - 1):\n",
    "            plt.plot([path[i][0], path[i+1][0]], [path[i][1], path[i+1][1]], \n",
    "                     'b-', alpha=0.7, linewidth=1.5)\n",
    "        \n",
    "        # Add arrow at the end\n",
    "        arrow_pos = 0.9  # Position of the arrow along the last segment\n",
    "        last_segment = path[-2], path[-1]\n",
    "        direction = (last_segment[1][0] - last_segment[0][0], \n",
    "                     last_segment[1][1] - last_segment[0][1])\n",
    "        arrow_x = last_segment[0][0] + arrow_pos * direction[0]\n",
    "        arrow_y = last_segment[0][1] + arrow_pos * direction[1]\n",
    "        \n",
    "        dx = direction[0] * 0.1\n",
    "        dy = direction[1] * 0.1\n",
    "        \n",
    "        plt.arrow(arrow_x - dx, arrow_y - dy, dx, dy, \n",
    "                  head_width=0.1, head_length=0.1, fc='blue', ec='blue')\n",
    "    \n",
    "    plt.title(\"Graph with Rectilinear Edges\")\n",
    "    plt.axis('equal')\n",
    "    plt.show()\n",
    "\n",
    "# Visualize the graph with rectilinear edges\n",
    "plot_graph_rectilinear_edges(G)"
   ]
  },
  {
   "cell_type": "code",
   "execution_count": 40,
   "metadata": {},
   "outputs": [
    {
     "ename": "NetworkXError",
     "evalue": "Node (0, 325, 0, 1) has no position.",
     "output_type": "error",
     "traceback": [
      "\u001b[0;31m---------------------------------------------------------------------------\u001b[0m",
      "\u001b[0;31mKeyError\u001b[0m                                  Traceback (most recent call last)",
      "File \u001b[0;32m~/Git/gen/.venv/lib/python3.9/site-packages/networkx/drawing/nx_pylab.py:429\u001b[0m, in \u001b[0;36mdraw_networkx_nodes\u001b[0;34m(G, pos, nodelist, node_size, node_color, node_shape, alpha, cmap, vmin, vmax, ax, linewidths, edgecolors, label, margins)\u001b[0m\n\u001b[1;32m    428\u001b[0m \u001b[38;5;28;01mtry\u001b[39;00m:\n\u001b[0;32m--> 429\u001b[0m     xy \u001b[38;5;241m=\u001b[39m np\u001b[38;5;241m.\u001b[39masarray([pos[v] \u001b[38;5;28;01mfor\u001b[39;00m v \u001b[38;5;129;01min\u001b[39;00m nodelist])\n\u001b[1;32m    430\u001b[0m \u001b[38;5;28;01mexcept\u001b[39;00m \u001b[38;5;167;01mKeyError\u001b[39;00m \u001b[38;5;28;01mas\u001b[39;00m err:\n",
      "File \u001b[0;32m~/Git/gen/.venv/lib/python3.9/site-packages/networkx/drawing/nx_pylab.py:429\u001b[0m, in \u001b[0;36m<listcomp>\u001b[0;34m(.0)\u001b[0m\n\u001b[1;32m    428\u001b[0m \u001b[38;5;28;01mtry\u001b[39;00m:\n\u001b[0;32m--> 429\u001b[0m     xy \u001b[38;5;241m=\u001b[39m np\u001b[38;5;241m.\u001b[39masarray([\u001b[43mpos\u001b[49m\u001b[43m[\u001b[49m\u001b[43mv\u001b[49m\u001b[43m]\u001b[49m \u001b[38;5;28;01mfor\u001b[39;00m v \u001b[38;5;129;01min\u001b[39;00m nodelist])\n\u001b[1;32m    430\u001b[0m \u001b[38;5;28;01mexcept\u001b[39;00m \u001b[38;5;167;01mKeyError\u001b[39;00m \u001b[38;5;28;01mas\u001b[39;00m err:\n",
      "\u001b[0;31mKeyError\u001b[0m: (0, 325, 0, 1)",
      "\nThe above exception was the direct cause of the following exception:\n",
      "\u001b[0;31mNetworkXError\u001b[0m                             Traceback (most recent call last)",
      "Cell \u001b[0;32mIn[40], line 76\u001b[0m\n\u001b[1;32m     73\u001b[0m     plt\u001b[38;5;241m.\u001b[39mshow()\n\u001b[1;32m     75\u001b[0m \u001b[38;5;66;03m# Visualize the graph with different rectilinear edge styles\u001b[39;00m\n\u001b[0;32m---> 76\u001b[0m \u001b[43mplot_graph_advanced_rectilinear\u001b[49m\u001b[43m(\u001b[49m\u001b[43mG\u001b[49m\u001b[43m,\u001b[49m\u001b[43m \u001b[49m\u001b[38;5;124;43m'\u001b[39;49m\u001b[38;5;124;43mL\u001b[39;49m\u001b[38;5;124;43m'\u001b[39;49m\u001b[43m)\u001b[49m\n\u001b[1;32m     77\u001b[0m plot_graph_advanced_rectilinear(G, \u001b[38;5;124m'\u001b[39m\u001b[38;5;124mreverse_L\u001b[39m\u001b[38;5;124m'\u001b[39m)\n\u001b[1;32m     78\u001b[0m plot_graph_advanced_rectilinear(G, \u001b[38;5;124m'\u001b[39m\u001b[38;5;124mZ\u001b[39m\u001b[38;5;124m'\u001b[39m)\n",
      "Cell \u001b[0;32mIn[40], line 40\u001b[0m, in \u001b[0;36mplot_graph_advanced_rectilinear\u001b[0;34m(G, strategy)\u001b[0m\n\u001b[1;32m     37\u001b[0m pos \u001b[38;5;241m=\u001b[39m nx\u001b[38;5;241m.\u001b[39mget_node_attributes(G, \u001b[38;5;124m'\u001b[39m\u001b[38;5;124mpos\u001b[39m\u001b[38;5;124m'\u001b[39m)\n\u001b[1;32m     39\u001b[0m \u001b[38;5;66;03m# Draw nodes\u001b[39;00m\n\u001b[0;32m---> 40\u001b[0m \u001b[43mnx\u001b[49m\u001b[38;5;241;43m.\u001b[39;49m\u001b[43mdraw_networkx_nodes\u001b[49m\u001b[43m(\u001b[49m\u001b[43mG\u001b[49m\u001b[43m,\u001b[49m\u001b[43m \u001b[49m\u001b[43mpos\u001b[49m\u001b[43m,\u001b[49m\u001b[43m \u001b[49m\u001b[43mnode_size\u001b[49m\u001b[38;5;241;43m=\u001b[39;49m\u001b[38;5;241;43m500\u001b[39;49m\u001b[43m,\u001b[49m\u001b[43m \u001b[49m\u001b[43mnode_color\u001b[49m\u001b[38;5;241;43m=\u001b[39;49m\u001b[38;5;124;43m'\u001b[39;49m\u001b[38;5;124;43mlightblue\u001b[39;49m\u001b[38;5;124;43m'\u001b[39;49m\u001b[43m)\u001b[49m\n\u001b[1;32m     41\u001b[0m nx\u001b[38;5;241m.\u001b[39mdraw_networkx_labels(G, pos, font_weight\u001b[38;5;241m=\u001b[39m\u001b[38;5;124m'\u001b[39m\u001b[38;5;124mbold\u001b[39m\u001b[38;5;124m'\u001b[39m)\n\u001b[1;32m     43\u001b[0m \u001b[38;5;66;03m# Create rectilinear paths\u001b[39;00m\n",
      "File \u001b[0;32m~/Git/gen/.venv/lib/python3.9/site-packages/networkx/drawing/nx_pylab.py:431\u001b[0m, in \u001b[0;36mdraw_networkx_nodes\u001b[0;34m(G, pos, nodelist, node_size, node_color, node_shape, alpha, cmap, vmin, vmax, ax, linewidths, edgecolors, label, margins)\u001b[0m\n\u001b[1;32m    429\u001b[0m     xy \u001b[38;5;241m=\u001b[39m np\u001b[38;5;241m.\u001b[39masarray([pos[v] \u001b[38;5;28;01mfor\u001b[39;00m v \u001b[38;5;129;01min\u001b[39;00m nodelist])\n\u001b[1;32m    430\u001b[0m \u001b[38;5;28;01mexcept\u001b[39;00m \u001b[38;5;167;01mKeyError\u001b[39;00m \u001b[38;5;28;01mas\u001b[39;00m err:\n\u001b[0;32m--> 431\u001b[0m     \u001b[38;5;28;01mraise\u001b[39;00m nx\u001b[38;5;241m.\u001b[39mNetworkXError(\u001b[38;5;124mf\u001b[39m\u001b[38;5;124m\"\u001b[39m\u001b[38;5;124mNode \u001b[39m\u001b[38;5;132;01m{\u001b[39;00merr\u001b[38;5;132;01m}\u001b[39;00m\u001b[38;5;124m has no position.\u001b[39m\u001b[38;5;124m\"\u001b[39m) \u001b[38;5;28;01mfrom\u001b[39;00m\u001b[38;5;250m \u001b[39m\u001b[38;5;21;01merr\u001b[39;00m\n\u001b[1;32m    433\u001b[0m \u001b[38;5;28;01mif\u001b[39;00m \u001b[38;5;28misinstance\u001b[39m(alpha, Iterable):\n\u001b[1;32m    434\u001b[0m     node_color \u001b[38;5;241m=\u001b[39m apply_alpha(node_color, alpha, nodelist, cmap, vmin, vmax)\n",
      "\u001b[0;31mNetworkXError\u001b[0m: Node (0, 325, 0, 1) has no position."
     ]
    },
    {
     "data": {
      "image/png": "[encoded data removed]",
      "text/plain": [
       "<Figure size 1000x800 with 1 Axes>"
      ]
     },
     "metadata": {},
     "output_type": "display_data"
    }
   ],
   "source": [
    "# Function to create rectilinear paths with different routing strategies\n",
    "def create_advanced_rectilinear_paths(G, strategy='L'):\n",
    "    rectilinear_paths = {}\n",
    "    pos = nx.get_node_attributes(G, 'pos')\n",
    "    \n",
    "    for u, v in G.edges():\n",
    "        # Get start and end positions\n",
    "        start_pos = pos[u]\n",
    "        end_pos = pos[v]\n",
    "        \n",
    "        if strategy == 'L':\n",
    "            # L-shaped path: first x, then y\n",
    "            mid_point = (end_pos[0], start_pos[1])\n",
    "            path = [start_pos, mid_point, end_pos]\n",
    "        \n",
    "        elif strategy == 'reverse_L':\n",
    "            # Reverse L-shaped path: first y, then x\n",
    "            mid_point = (start_pos[0], end_pos[1])\n",
    "            path = [start_pos, mid_point, end_pos]\n",
    "        \n",
    "        elif strategy == 'Z':\n",
    "            # Z-shaped path with a middle segment\n",
    "            mid_x = (start_pos[0] + end_pos[0]) / 2\n",
    "            mid_points = [(mid_x, start_pos[1]), (mid_x, end_pos[1])]\n",
    "            path = [start_pos] + mid_points + [end_pos]\n",
    "        \n",
    "        else:  # Default to direct line\n",
    "            path = [start_pos, end_pos]\n",
    "        \n",
    "        rectilinear_paths[(u, v)] = path\n",
    "    \n",
    "    return rectilinear_paths\n",
    "\n",
    "# Function to visualize the graph with advanced rectilinear edges\n",
    "def plot_graph_advanced_rectilinear(G, strategy='L'):\n",
    "    plt.figure(figsize=(10, 8))\n",
    "    pos = nx.get_node_attributes(G, 'pos')\n",
    "    \n",
    "    # Draw nodes\n",
    "    nx.draw_networkx_nodes(G, pos, node_size=500, node_color='lightblue')\n",
    "    nx.draw_networkx_labels(G, pos, font_weight='bold')\n",
    "    \n",
    "    # Create rectilinear paths\n",
    "    paths = create_advanced_rectilinear_paths(G, strategy)\n",
    "    \n",
    "    # Draw rectilinear edges\n",
    "    for (u, v), path in paths.items():\n",
    "        # Draw the path segments\n",
    "        for i in range(len(path) - 1):\n",
    "            plt.plot([path[i][0], path[i+1][0]], [path[i][1], path[i+1][1]], \n",
    "                     'b-', alpha=0.7, linewidth=1.5)\n",
    "        \n",
    "        # Add arrow at the end\n",
    "        arrow_pos = 0.9  # Position of the arrow along the last segment\n",
    "        last_segment = path[-2], path[-1]\n",
    "        direction = (last_segment[1][0] - last_segment[0][0], \n",
    "                     last_segment[1][1] - last_segment[0][1])\n",
    "        \n",
    "        # Avoid division by zero\n",
    "        segment_length = np.sqrt(direction[0]**2 + direction[1]**2)\n",
    "        if segment_length > 0:\n",
    "            arrow_x = last_segment[0][0] + arrow_pos * direction[0]\n",
    "            arrow_y = last_segment[0][1] + arrow_pos * direction[1]\n",
    "            \n",
    "            dx = direction[0] * 0.1\n",
    "            dy = direction[1] * 0.1\n",
    "            \n",
    "            plt.arrow(arrow_x - dx, arrow_y - dy, dx, dy, \n",
    "                      head_width=0.1, head_length=0.1, fc='blue', ec='blue')\n",
    "    \n",
    "    plt.title(f\"Graph with {strategy}-shaped Rectilinear Edges\")\n",
    "    plt.axis('equal')\n",
    "    plt.show()\n",
    "\n",
    "# Visualize the graph with different rectilinear edge styles\n",
    "plot_graph_advanced_rectilinear(G, 'L')\n",
    "plot_graph_advanced_rectilinear(G, 'reverse_L')\n",
    "plot_graph_advanced_rectilinear(G, 'Z')"
   ]
  },
  {
   "cell_type": "code",
   "execution_count": null,
   "metadata": {},
   "outputs": [],
   "source": []
  }
 ],
 "metadata": {
  "kernelspec": {
   "display_name": ".venv",
   "language": "python",
   "name": "python3"
  },
  "language_info": {
   "codemirror_mode": {
    "name": "ipython",
    "version": 3
   },
   "file_extension": ".py",
   "mimetype": "text/x-python",
   "name": "python",
   "nbconvert_exporter": "python",
   "pygments_lexer": "ipython3",
   "version": "3.9.21"
  }
 },
 "nbformat": 4,
 "nbformat_minor": 2
}
