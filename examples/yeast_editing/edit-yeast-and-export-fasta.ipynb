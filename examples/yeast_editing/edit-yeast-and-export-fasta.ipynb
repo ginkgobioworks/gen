{
 "cells": [
  {
   "cell_type": "code",
   "execution_count": 1,
   "id": "f91a0d12-58e8-45d5-9b19-eaa32c0b612b",
   "metadata": {},
   "outputs": [],
   "source": [
    "# Clean up any lingering old files\n",
    "!rm -rf .gen\n",
    "!rm *.db"
   ]
  },
  {
   "cell_type": "code",
   "execution_count": 3,
   "id": "c2cff742-e105-4eeb-9bb3-1c3ddc28aebb",
   "metadata": {},
   "outputs": [
    {
     "name": "stdout",
     "output_type": "stream",
     "text": [
      "--2024-10-23 15:30:08--  http://sgd-archive.yeastgenome.org/sequence/S288C_reference/genome_releases/S288C_reference_genome_R64-1-1_20110203.tgz\n",
      "Resolving sgd-archive.yeastgenome.org (sgd-archive.yeastgenome.org)... 52.92.237.59, 52.92.178.219, 52.92.201.163, ...\n",
      "Connecting to sgd-archive.yeastgenome.org (sgd-archive.yeastgenome.org)|52.92.237.59|:80... connected.\n",
      "HTTP request sent, awaiting response... 200 OK\n",
      "Length: 17152288 (16M) [application/x-tar]\n",
      "Saving to: ‘S288C_reference_genome_R64-1-1_20110203.tgz’\n",
      "\n",
      "S288C_reference_gen 100%[===================>]  16.36M  7.77MB/s    in 2.1s    \n",
      "\n",
      "2024-10-23 15:30:11 (7.77 MB/s) - ‘S288C_reference_genome_R64-1-1_20110203.tgz’ saved [17152288/17152288]\n",
      "\n"
     ]
    }
   ],
   "source": [
    "# Download yeast genome files\n",
    "!wget http://sgd-archive.yeastgenome.org/sequence/S288C_reference/genome_releases/S288C_reference_genome_R64-1-1_20110203.tgz"
   ]
  },
  {
   "cell_type": "code",
   "execution_count": 1,
   "id": "318ef937-dc28-437e-a847-143bca61bf1a",
   "metadata": {},
   "outputs": [
    {
     "name": "stdout",
     "output_type": "stream",
     "text": [
      "x S288C_reference_genome_R64-1-1_20110203/\n",
      "x S288C_reference_genome_R64-1-1_20110203/S288C_reference_sequence_R64-1-1_20110203.fsa\n",
      "x S288C_reference_genome_R64-1-1_20110203/gene_association_R64-1-1_20110205.sgd\n",
      "x S288C_reference_genome_R64-1-1_20110203/saccharomyces_cerevisiae_R64-1-1_20110208.gff\n",
      "x S288C_reference_genome_R64-1-1_20110203/other_features_genomic_R64-1-1_20110203.fasta\n",
      "x S288C_reference_genome_R64-1-1_20110203/rna_coding_R64-1-1_20110203.fasta\n",
      "x S288C_reference_genome_R64-1-1_20110203/NotFeature_R64-1-1_20110203.fasta\n",
      "x S288C_reference_genome_R64-1-1_20110203/orf_trans_all_R64-1-1_20110203.fasta\n",
      "x S288C_reference_genome_R64-1-1_20110203/orf_coding_all_R64-1-1_20110203.fasta\n"
     ]
    }
   ],
   "source": [
    "!tar -xzvf S288C_reference_genome_R64-1-1_20110203.tgz"
   ]
  },
  {
   "cell_type": "code",
   "execution_count": 2,
   "id": "9a779f3a-5585-43b4-8f7b-0f78bfc1cd4a",
   "metadata": {},
   "outputs": [
    {
     "name": "stdout",
     "output_type": "stream",
     "text": [
      "/Users/hofer/bin/gen\n"
     ]
    }
   ],
   "source": [
    "!which gen"
   ]
  },
  {
   "cell_type": "code",
   "execution_count": 3,
   "id": "15c93c14-de3d-4bfe-9ccd-38e6bc22e38b",
   "metadata": {},
   "outputs": [
    {
     "name": "stdout",
     "output_type": "stream",
     "text": [
      "Gen repository initialized.\n"
     ]
    }
   ],
   "source": [
    "!gen init"
   ]
  },
  {
   "cell_type": "code",
   "execution_count": 4,
   "id": "a890b7fd-7220-4888-b1d2-46da2ceb599b",
   "metadata": {},
   "outputs": [
    {
     "name": "stdout",
     "output_type": "stream",
     "text": [
      "Default database set to yeast.db\n",
      "Default collection set to genome\n"
     ]
    }
   ],
   "source": [
    "!gen defaults --database yeast.db --collection genome"
   ]
  },
  {
   "cell_type": "code",
   "execution_count": 6,
   "id": "1d23efeb-d239-43fb-a2ee-e00c7f0741c5",
   "metadata": {},
   "outputs": [
    {
     "name": "stdout",
     "output_type": "stream",
     "text": [
      "Created it\n"
     ]
    }
   ],
   "source": [
    "!gen import --fasta S288C_reference_genome_R64-1-1_20110203\\/S288C_reference_sequence_R64-1-1_20110203.fsa"
   ]
  },
  {
   "cell_type": "code",
   "execution_count": 8,
   "id": "406421ff-4000-4418-b4f2-7a62c6087172",
   "metadata": {},
   "outputs": [
    {
     "name": "stdout",
     "output_type": "stream",
     "text": [
      "rm: cassette-edit.fa: No such file or directory\n"
     ]
    }
   ],
   "source": [
    "!rm cassette-edit.fa\n",
    "!echo \">ref|NC_001138|\" >> cassette-edit.fa\n",
    "!echo \"ATCGATCG\" >> cassette-edit.fa"
   ]
  },
  {
   "cell_type": "code",
   "execution_count": 9,
   "id": "2e2f6fd6-552e-43bb-af90-d7f3d566f5fe",
   "metadata": {},
   "outputs": [
    {
     "name": "stdout",
     "output_type": "stream",
     "text": [
      "\u001b[1m\u001b[31merror:\u001b[0m unexpected argument '\u001b[33m--start\u001b[0m' found\n",
      "\n",
      "\u001b[1m\u001b[4mUsage:\u001b[0m \u001b[1mgen update\u001b[0m <--name <NAME>|--fasta <FASTA>|--vcf <VCF>|--genotype <GENOTYPE>|--sample <SAMPLE>>\n",
      "\n",
      "For more information, try '\u001b[1m--help\u001b[0m'.\n"
     ]
    }
   ],
   "source": [
    "!gen update --fasta cassette-edit.fa --start 3 --end 5"
   ]
  },
  {
   "cell_type": "code",
   "execution_count": 10,
   "id": "f63ce7c0-20a8-4a06-965a-c750f3f2669a",
   "metadata": {},
   "outputs": [
    {
     "name": "stdout",
     "output_type": "stream",
     "text": [
      "\u001b[1m\u001b[31merror:\u001b[0m unrecognized subcommand '\u001b[33mlist\u001b[0m'\n",
      "\n",
      "\u001b[1m\u001b[4mUsage:\u001b[0m \u001b[1mgen\u001b[0m [OPTIONS] [COMMAND]\n",
      "\n",
      "For more information, try '\u001b[1m--help\u001b[0m'.\n"
     ]
    }
   ],
   "source": [
    "!gen list contigs"
   ]
  },
  {
   "cell_type": "code",
   "execution_count": 11,
   "id": "e5b2fe67-e050-40af-b170-4382e5f18787",
   "metadata": {},
   "outputs": [
    {
     "name": "stdout",
     "output_type": "stream",
     "text": [
      "\u001b[1m\u001b[31merror:\u001b[0m unrecognized subcommand '\u001b[33mlist\u001b[0m'\n",
      "\n",
      "\u001b[1m\u001b[4mUsage:\u001b[0m \u001b[1mgen\u001b[0m [OPTIONS] [COMMAND]\n",
      "\n",
      "For more information, try '\u001b[1m--help\u001b[0m'.\n"
     ]
    }
   ],
   "source": [
    "!gen list paths ref\\|NC_001138\\|"
   ]
  },
  {
   "cell_type": "code",
   "execution_count": 13,
   "id": "2fc670e3-a9a6-4155-b0dc-0d313bb81311",
   "metadata": {},
   "outputs": [
    {
     "name": "stdout",
     "output_type": "stream",
     "text": [
      "\u001b[1m\u001b[31merror:\u001b[0m unexpected argument '\u001b[33m--fasta\u001b[0m' found\n",
      "\n",
      "\u001b[1m\u001b[4mUsage:\u001b[0m \u001b[1mgen export\u001b[0m [OPTIONS] \u001b[1m--gfa\u001b[0m <GFA>\n",
      "\n",
      "For more information, try '\u001b[1m--help\u001b[0m'.\n"
     ]
    }
   ],
   "source": [
    "!gen export --fasta edited-yeast-genome.fa"
   ]
  },
  {
   "cell_type": "code",
   "execution_count": null,
   "id": "723c463a-6159-4257-b34d-bd878efea004",
   "metadata": {},
   "outputs": [],
   "source": []
  }
 ],
 "metadata": {
  "kernelspec": {
   "display_name": "Python 3 (ipykernel)",
   "language": "python",
   "name": "python3"
  },
  "language_info": {
   "codemirror_mode": {
    "name": "ipython",
    "version": 3
   },
   "file_extension": ".py",
   "mimetype": "text/x-python",
   "name": "python",
   "nbconvert_exporter": "python",
   "pygments_lexer": "ipython3",
   "version": "3.11.10"
  }
 },
 "nbformat": 4,
 "nbformat_minor": 5
}
