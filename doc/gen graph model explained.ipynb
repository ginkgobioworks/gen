{
 "cells": [
  {
   "cell_type": "code",
   "execution_count": 3,
   "metadata": {},
   "outputs": [],
   "source": [
    "import networkx as nx\n",
    "import matplotlib.pyplot as plt \n",
    "from IPython.display import SVG, display"
   ]
  },
  {
   "cell_type": "markdown",
   "metadata": {},
   "source": [
    "We use a graph data model where nodes represent sequence segments, and edges indicate how multiple segments can be joined together. More specifically, we use a \"port graph\" in which each node is accessed via ports that correspond to nucleotide positions on the source sequence. This allows pairs of edges to reference subsequences without having to split up existing nodes. The port information is stored on the edges, which specify 'to' and 'from' positions in addition to the source and target node.\n",
    "\n",
    "The actual sequences are stored in a hash table that may contain metadata on where to find the source sequence (drive, url, ...), but lacks any biological context. Sequence nodes are instantiations of source sequences, they do not have to be unique and are well suited to carry metadata. They are referenced by an identifier that is unique within the graph, which avoids creating ambiguous edges or cycles."
   ]
  },
  {
   "cell_type": "code",
   "execution_count": 4,
   "metadata": {},
   "outputs": [],
   "source": [
    "# Create an empty graph\n",
    "G = nx.DiGraph()\n",
    "\n",
    "# For the sake of this example, we don't calculate the hash and use a simple dictionary.\n",
    "sequence_hashes = {'h1': 'ATCGATCGATCG', \n",
    "                   'h2': 'CG', \n",
    "                   'h3': 'A'}\n",
    "\n",
    "# Define the starting sequence node via its hash, and use an integer as node identifier for now.\n",
    "G.add_node(1,  sequence_hash = 'h1')"
   ]
  },
  {
   "cell_type": "markdown",
   "metadata": {},
   "source": [
    "A sequence variant or edit is represented by edges and sequence nodes, we demonstrate this first for a substitution. In this case we replace the subsequence GAT by CG."
   ]
  },
  {
   "cell_type": "code",
   "execution_count": 5,
   "metadata": {},
   "outputs": [
    {
     "data": {
      "image/svg+xml": [
       "<svg xmlns=\"http://www.w3.org/2000/svg\" xmlns:xlink=\"http://www.w3.org/1999/xlink\" width=\"299pt\" height=\"118pt\" viewBox=\"0.00 0.00 299.00 118.00\">\n",
       "<g id=\"graph0\" class=\"graph\" transform=\"scale(1 1) rotate(0) translate(4 114)\">\n",
       "<polygon fill=\"white\" stroke=\"none\" points=\"-4,4 -4,-114 295,-114 295,4 -4,4\"/>\n",
       "<!-- 1 -->\n",
       "<g id=\"node1\" class=\"node\">\n",
       "<title>1</title>\n",
       "<polygon fill=\"none\" stroke=\"black\" points=\"0,-73.5 0,-109.5 291,-109.5 291,-73.5 0,-73.5\"/>\n",
       "<text text-anchor=\"middle\" x=\"12.12\" y=\"-86.45\" font-family=\"Courier,monospace\" font-size=\"14.00\">A</text>\n",
       "<polyline fill=\"none\" stroke=\"black\" points=\"24.25,-73.5 24.25,-109.5\"/>\n",
       "<text text-anchor=\"middle\" x=\"36.38\" y=\"-86.45\" font-family=\"Courier,monospace\" font-size=\"14.00\">T</text>\n",
       "<polyline fill=\"none\" stroke=\"black\" points=\"48.5,-73.5 48.5,-109.5\"/>\n",
       "<text text-anchor=\"middle\" x=\"60.62\" y=\"-86.45\" font-family=\"Courier,monospace\" font-size=\"14.00\">C</text>\n",
       "<polyline fill=\"none\" stroke=\"black\" points=\"72.75,-73.5 72.75,-109.5\"/>\n",
       "<text text-anchor=\"middle\" x=\"84.88\" y=\"-86.45\" font-family=\"Courier,monospace\" font-size=\"14.00\">G</text>\n",
       "<polyline fill=\"none\" stroke=\"black\" points=\"97,-73.5 97,-109.5\"/>\n",
       "<text text-anchor=\"middle\" x=\"109.12\" y=\"-86.45\" font-family=\"Courier,monospace\" font-size=\"14.00\">A</text>\n",
       "<polyline fill=\"none\" stroke=\"black\" points=\"121.25,-73.5 121.25,-109.5\"/>\n",
       "<text text-anchor=\"middle\" x=\"133.38\" y=\"-86.45\" font-family=\"Courier,monospace\" font-size=\"14.00\">T</text>\n",
       "<polyline fill=\"none\" stroke=\"black\" points=\"145.5,-73.5 145.5,-109.5\"/>\n",
       "<text text-anchor=\"middle\" x=\"157.62\" y=\"-86.45\" font-family=\"Courier,monospace\" font-size=\"14.00\">C</text>\n",
       "<polyline fill=\"none\" stroke=\"black\" points=\"169.75,-73.5 169.75,-109.5\"/>\n",
       "<text text-anchor=\"middle\" x=\"181.88\" y=\"-86.45\" font-family=\"Courier,monospace\" font-size=\"14.00\">G</text>\n",
       "<polyline fill=\"none\" stroke=\"black\" points=\"194,-73.5 194,-109.5\"/>\n",
       "<text text-anchor=\"middle\" x=\"206.12\" y=\"-86.45\" font-family=\"Courier,monospace\" font-size=\"14.00\">A</text>\n",
       "<polyline fill=\"none\" stroke=\"black\" points=\"218.25,-73.5 218.25,-109.5\"/>\n",
       "<text text-anchor=\"middle\" x=\"230.38\" y=\"-86.45\" font-family=\"Courier,monospace\" font-size=\"14.00\">T</text>\n",
       "<polyline fill=\"none\" stroke=\"black\" points=\"242.5,-73.5 242.5,-109.5\"/>\n",
       "<text text-anchor=\"middle\" x=\"254.62\" y=\"-86.45\" font-family=\"Courier,monospace\" font-size=\"14.00\">C</text>\n",
       "<polyline fill=\"none\" stroke=\"black\" points=\"266.75,-73.5 266.75,-109.5\"/>\n",
       "<text text-anchor=\"middle\" x=\"278.88\" y=\"-86.45\" font-family=\"Courier,monospace\" font-size=\"14.00\">G</text>\n",
       "</g>\n",
       "<!-- 2 -->\n",
       "<g id=\"node2\" class=\"node\">\n",
       "<title>2</title>\n",
       "<polygon fill=\"none\" stroke=\"black\" points=\"83.5,-0.5 83.5,-36.5 137.5,-36.5 137.5,-0.5 83.5,-0.5\"/>\n",
       "<text text-anchor=\"middle\" x=\"96.62\" y=\"-13.45\" font-family=\"Courier,monospace\" font-size=\"14.00\">C</text>\n",
       "<polyline fill=\"none\" stroke=\"black\" points=\"109.75,-0.5 109.75,-36.5\"/>\n",
       "<text text-anchor=\"middle\" x=\"123.38\" y=\"-13.45\" font-family=\"Courier,monospace\" font-size=\"14.00\">G</text>\n",
       "</g>\n",
       "<!-- 1&#45;&gt;2 -->\n",
       "<g id=\"edge1\" class=\"edge\">\n",
       "<title>1:2-&gt;2:0</title>\n",
       "<path fill=\"none\" stroke=\"black\" d=\"M60.62,-73C60.62,-55.15 83.04,-57.14 92.5,-47.66\"/>\n",
       "<polygon fill=\"black\" stroke=\"black\" points=\"95.73,-49 96.08,-38.41 89.2,-46.47 95.73,-49\"/>\n",
       "</g>\n",
       "<!-- 2&#45;&gt;1 -->\n",
       "<g id=\"edge2\" class=\"edge\">\n",
       "<title>2:1-&gt;1:6</title>\n",
       "<path fill=\"none\" stroke=\"black\" d=\"M123.38,-37C123.38,-54.43 144.7,-53.02 153.7,-62.5\"/>\n",
       "<polygon fill=\"black\" stroke=\"black\" points=\"150.31,-63.44 157.09,-71.58 156.87,-60.99 150.31,-63.44\"/>\n",
       "</g>\n",
       "</g>\n",
       "</svg>"
      ],
      "text/plain": [
       "<IPython.core.display.SVG object>"
      ]
     },
     "metadata": {},
     "output_type": "display_data"
    }
   ],
   "source": [
    "# Add a new sequence node to represent the insert\n",
    "G.add_node(2, sequence_hash='h2')\n",
    "\n",
    "# Define port-aware edges by coordinates in the form of: (source node, from position), (target node, to position)\n",
    "def add_port_edge(graph, source, target):\n",
    "    # We use edge attributes to store the port information:\n",
    "    graph.add_edge(source[0], target[0], from_pos=source[1], to_pos=target[1])\n",
    "\n",
    "# We add two edges between nodes 1 and 2\n",
    "add_port_edge(G, (1, 2), (2, 0)) # From node 1, position 2 to node 2, position 0\n",
    "add_port_edge(G, (2, 1), (1, 6)) # From node 2, position 1 to node 1, position 6\n",
    "\n",
    "# Let's plot the graph\n",
    "def draw_port_graph(graph):\n",
    "    # Create a copy of the graph to avoid modifying the original\n",
    "    graph = graph.copy()\n",
    "    \n",
    "    # Add the actual sequence as node label\n",
    "    for node in graph.nodes:\n",
    "        seq = sequence_hashes[graph.nodes[node]['sequence_hash']]\n",
    "        # Break up the sequence into nucleotides and port markers for graphviz\n",
    "        label = '|'.join(f'<{i}> {c}' for i, c in enumerate(seq))\n",
    "        graph.nodes[node]['label'] = label\n",
    "        # The record node type supports ported nodes\n",
    "        graph.nodes[node]['shape'] = 'record'\n",
    "        graph.nodes[node]['fontname'] = 'Courier'\n",
    "\n",
    "    for edge in graph.edges:\n",
    "        # Connect the head and tail of each edge to the correct port\n",
    "        graph.edges[edge]['headport'] = f\"{graph.edges[edge]['to_pos']}\"\n",
    "        graph.edges[edge]['tailport'] = f\"{graph.edges[edge]['from_pos']}\"\n",
    "\n",
    "    # Convert the networkx graph to a pygraphviz graph\n",
    "    graph = nx.nx_agraph.to_agraph(graph)\n",
    "\n",
    "    # Draw the graph using pygraphviz\n",
    "    fig = SVG(graph.draw(prog='dot', args='-Grankdir=TD ', format='svg'))\n",
    "    display(fig)\n",
    "\n",
    "draw_port_graph(G)\n"
   ]
  },
  {
   "cell_type": "markdown",
   "metadata": {},
   "source": [
    "We do the same for an insertion after the 7th nucleotide:"
   ]
  },
  {
   "cell_type": "code",
   "execution_count": 6,
   "metadata": {},
   "outputs": [
    {
     "data": {
      "image/svg+xml": [
       "<svg xmlns=\"http://www.w3.org/2000/svg\" xmlns:xlink=\"http://www.w3.org/1999/xlink\" width=\"299pt\" height=\"118pt\" viewBox=\"0.00 0.00 299.00 118.00\">\n",
       "<g id=\"graph0\" class=\"graph\" transform=\"scale(1 1) rotate(0) translate(4 114)\">\n",
       "<polygon fill=\"white\" stroke=\"none\" points=\"-4,4 -4,-114 295,-114 295,4 -4,4\"/>\n",
       "<!-- 1 -->\n",
       "<g id=\"node1\" class=\"node\">\n",
       "<title>1</title>\n",
       "<polygon fill=\"none\" stroke=\"black\" points=\"0,-73.5 0,-109.5 291,-109.5 291,-73.5 0,-73.5\"/>\n",
       "<text text-anchor=\"middle\" x=\"12.12\" y=\"-86.45\" font-family=\"Courier,monospace\" font-size=\"14.00\">A</text>\n",
       "<polyline fill=\"none\" stroke=\"black\" points=\"24.25,-73.5 24.25,-109.5\"/>\n",
       "<text text-anchor=\"middle\" x=\"36.38\" y=\"-86.45\" font-family=\"Courier,monospace\" font-size=\"14.00\">T</text>\n",
       "<polyline fill=\"none\" stroke=\"black\" points=\"48.5,-73.5 48.5,-109.5\"/>\n",
       "<text text-anchor=\"middle\" x=\"60.62\" y=\"-86.45\" font-family=\"Courier,monospace\" font-size=\"14.00\">C</text>\n",
       "<polyline fill=\"none\" stroke=\"black\" points=\"72.75,-73.5 72.75,-109.5\"/>\n",
       "<text text-anchor=\"middle\" x=\"84.88\" y=\"-86.45\" font-family=\"Courier,monospace\" font-size=\"14.00\">G</text>\n",
       "<polyline fill=\"none\" stroke=\"black\" points=\"97,-73.5 97,-109.5\"/>\n",
       "<text text-anchor=\"middle\" x=\"109.12\" y=\"-86.45\" font-family=\"Courier,monospace\" font-size=\"14.00\">A</text>\n",
       "<polyline fill=\"none\" stroke=\"black\" points=\"121.25,-73.5 121.25,-109.5\"/>\n",
       "<text text-anchor=\"middle\" x=\"133.38\" y=\"-86.45\" font-family=\"Courier,monospace\" font-size=\"14.00\">T</text>\n",
       "<polyline fill=\"none\" stroke=\"black\" points=\"145.5,-73.5 145.5,-109.5\"/>\n",
       "<text text-anchor=\"middle\" x=\"157.62\" y=\"-86.45\" font-family=\"Courier,monospace\" font-size=\"14.00\">C</text>\n",
       "<polyline fill=\"none\" stroke=\"black\" points=\"169.75,-73.5 169.75,-109.5\"/>\n",
       "<text text-anchor=\"middle\" x=\"181.88\" y=\"-86.45\" font-family=\"Courier,monospace\" font-size=\"14.00\">G</text>\n",
       "<polyline fill=\"none\" stroke=\"black\" points=\"194,-73.5 194,-109.5\"/>\n",
       "<text text-anchor=\"middle\" x=\"206.12\" y=\"-86.45\" font-family=\"Courier,monospace\" font-size=\"14.00\">A</text>\n",
       "<polyline fill=\"none\" stroke=\"black\" points=\"218.25,-73.5 218.25,-109.5\"/>\n",
       "<text text-anchor=\"middle\" x=\"230.38\" y=\"-86.45\" font-family=\"Courier,monospace\" font-size=\"14.00\">T</text>\n",
       "<polyline fill=\"none\" stroke=\"black\" points=\"242.5,-73.5 242.5,-109.5\"/>\n",
       "<text text-anchor=\"middle\" x=\"254.62\" y=\"-86.45\" font-family=\"Courier,monospace\" font-size=\"14.00\">C</text>\n",
       "<polyline fill=\"none\" stroke=\"black\" points=\"266.75,-73.5 266.75,-109.5\"/>\n",
       "<text text-anchor=\"middle\" x=\"278.88\" y=\"-86.45\" font-family=\"Courier,monospace\" font-size=\"14.00\">G</text>\n",
       "</g>\n",
       "<!-- 2 -->\n",
       "<g id=\"node2\" class=\"node\">\n",
       "<title>2</title>\n",
       "<polygon fill=\"none\" stroke=\"black\" points=\"142.5,-0.5 142.5,-36.5 196.5,-36.5 196.5,-0.5 142.5,-0.5\"/>\n",
       "<text text-anchor=\"middle\" x=\"169.12\" y=\"-13.45\" font-family=\"Courier,monospace\" font-size=\"14.00\">A</text>\n",
       "</g>\n",
       "<!-- 1&#45;&gt;2 -->\n",
       "<g id=\"edge1\" class=\"edge\">\n",
       "<title>1:6-&gt;2:0</title>\n",
       "<path fill=\"none\" stroke=\"black\" d=\"M157.62,-73C157.62,-64.81 158.88,-56.08 160.57,-48.06\"/>\n",
       "<polygon fill=\"black\" stroke=\"black\" points=\"163.95,-48.98 162.89,-38.43 157.14,-47.34 163.95,-48.98\"/>\n",
       "</g>\n",
       "<!-- 2&#45;&gt;1 -->\n",
       "<g id=\"edge2\" class=\"edge\">\n",
       "<title>2:0-&gt;1:7</title>\n",
       "<path fill=\"none\" stroke=\"black\" d=\"M175.65,-36.92C177.83,-44.18 179.99,-52.87 181.1,-61.6\"/>\n",
       "<polygon fill=\"black\" stroke=\"black\" points=\"177.6,-61.75 181.77,-71.49 184.59,-61.28 177.6,-61.75\"/>\n",
       "</g>\n",
       "</g>\n",
       "</svg>"
      ],
      "text/plain": [
       "<IPython.core.display.SVG object>"
      ]
     },
     "metadata": {},
     "output_type": "display_data"
    }
   ],
   "source": [
    "# Restore the same starting sequence\n",
    "G = nx.DiGraph()\n",
    "G.add_node(1, sequence_hash = 'h1')\n",
    "\n",
    "# Add the insert node and two edges\n",
    "G.add_node(2, sequence_hash='h3')\n",
    "add_port_edge(G, (1, 6), (2, 0)) # From node 1, position 6 to node 2, position 0\n",
    "add_port_edge(G, (2, 0), (1, 7)) # From node 2, position 0 to node 2, position 7\n",
    "\n",
    "draw_port_graph(G)"
   ]
  },
  {
   "cell_type": "markdown",
   "metadata": {},
   "source": [
    "A deletion is represented by just one edge:"
   ]
  },
  {
   "cell_type": "code",
   "execution_count": 7,
   "metadata": {},
   "outputs": [
    {
     "data": {
      "image/svg+xml": [
       "<svg xmlns=\"http://www.w3.org/2000/svg\" xmlns:xlink=\"http://www.w3.org/1999/xlink\" width=\"299pt\" height=\"64pt\" viewBox=\"0.00 0.00 299.00 63.50\">\n",
       "<g id=\"graph0\" class=\"graph\" transform=\"scale(1 1) rotate(0) translate(4 59.5)\">\n",
       "<polygon fill=\"white\" stroke=\"none\" points=\"-4,4 -4,-59.5 295,-59.5 295,4 -4,4\"/>\n",
       "<!-- 1 -->\n",
       "<g id=\"node1\" class=\"node\">\n",
       "<title>1</title>\n",
       "<polygon fill=\"none\" stroke=\"black\" points=\"0,-0.5 0,-36.5 291,-36.5 291,-0.5 0,-0.5\"/>\n",
       "<text text-anchor=\"middle\" x=\"12.12\" y=\"-13.45\" font-family=\"Courier,monospace\" font-size=\"14.00\">A</text>\n",
       "<polyline fill=\"none\" stroke=\"black\" points=\"24.25,-0.5 24.25,-36.5\"/>\n",
       "<text text-anchor=\"middle\" x=\"36.38\" y=\"-13.45\" font-family=\"Courier,monospace\" font-size=\"14.00\">T</text>\n",
       "<polyline fill=\"none\" stroke=\"black\" points=\"48.5,-0.5 48.5,-36.5\"/>\n",
       "<text text-anchor=\"middle\" x=\"60.62\" y=\"-13.45\" font-family=\"Courier,monospace\" font-size=\"14.00\">C</text>\n",
       "<polyline fill=\"none\" stroke=\"black\" points=\"72.75,-0.5 72.75,-36.5\"/>\n",
       "<text text-anchor=\"middle\" x=\"84.88\" y=\"-13.45\" font-family=\"Courier,monospace\" font-size=\"14.00\">G</text>\n",
       "<polyline fill=\"none\" stroke=\"black\" points=\"97,-0.5 97,-36.5\"/>\n",
       "<text text-anchor=\"middle\" x=\"109.12\" y=\"-13.45\" font-family=\"Courier,monospace\" font-size=\"14.00\">A</text>\n",
       "<polyline fill=\"none\" stroke=\"black\" points=\"121.25,-0.5 121.25,-36.5\"/>\n",
       "<text text-anchor=\"middle\" x=\"133.38\" y=\"-13.45\" font-family=\"Courier,monospace\" font-size=\"14.00\">T</text>\n",
       "<polyline fill=\"none\" stroke=\"black\" points=\"145.5,-0.5 145.5,-36.5\"/>\n",
       "<text text-anchor=\"middle\" x=\"157.62\" y=\"-13.45\" font-family=\"Courier,monospace\" font-size=\"14.00\">C</text>\n",
       "<polyline fill=\"none\" stroke=\"black\" points=\"169.75,-0.5 169.75,-36.5\"/>\n",
       "<text text-anchor=\"middle\" x=\"181.88\" y=\"-13.45\" font-family=\"Courier,monospace\" font-size=\"14.00\">G</text>\n",
       "<polyline fill=\"none\" stroke=\"black\" points=\"194,-0.5 194,-36.5\"/>\n",
       "<text text-anchor=\"middle\" x=\"206.12\" y=\"-13.45\" font-family=\"Courier,monospace\" font-size=\"14.00\">A</text>\n",
       "<polyline fill=\"none\" stroke=\"black\" points=\"218.25,-0.5 218.25,-36.5\"/>\n",
       "<text text-anchor=\"middle\" x=\"230.38\" y=\"-13.45\" font-family=\"Courier,monospace\" font-size=\"14.00\">T</text>\n",
       "<polyline fill=\"none\" stroke=\"black\" points=\"242.5,-0.5 242.5,-36.5\"/>\n",
       "<text text-anchor=\"middle\" x=\"254.62\" y=\"-13.45\" font-family=\"Courier,monospace\" font-size=\"14.00\">C</text>\n",
       "<polyline fill=\"none\" stroke=\"black\" points=\"266.75,-0.5 266.75,-36.5\"/>\n",
       "<text text-anchor=\"middle\" x=\"278.88\" y=\"-13.45\" font-family=\"Courier,monospace\" font-size=\"14.00\">G</text>\n",
       "</g>\n",
       "<!-- 1&#45;&gt;1 -->\n",
       "<g id=\"edge1\" class=\"edge\">\n",
       "<title>1:7-&gt;1:10</title>\n",
       "<path fill=\"none\" stroke=\"black\" d=\"M177.7,-36.78C180.08,-46.57 190.95,-55.5 218.25,-55.5 236.16,-55.5 247,-51.66 253.01,-46.24\"/>\n",
       "<polygon fill=\"black\" stroke=\"black\" points=\"255.78,-48.43 258.01,-38.07 249.81,-44.78 255.78,-48.43\"/>\n",
       "</g>\n",
       "</g>\n",
       "</svg>"
      ],
      "text/plain": [
       "<IPython.core.display.SVG object>"
      ]
     },
     "metadata": {},
     "output_type": "display_data"
    }
   ],
   "source": [
    "# Restore the same starting sequence\n",
    "G = nx.DiGraph()\n",
    "G.add_node(1, sequence_hash = 'h1')\n",
    "\n",
    "# Delete position 8 to 9\n",
    "add_port_edge(G, (1, 7), (1, 10)) \n",
    "\n",
    "draw_port_graph(G)"
   ]
  },
  {
   "cell_type": "markdown",
   "metadata": {},
   "source": [
    "In each case, the original source sequence is still present in the graph since we don't break up existing nodes. The advantage of this is that operations are easy to combine as the edges are additive:"
   ]
  },
  {
   "cell_type": "code",
   "execution_count": 8,
   "metadata": {},
   "outputs": [
    {
     "data": {
      "image/svg+xml": [
       "<svg xmlns=\"http://www.w3.org/2000/svg\" xmlns:xlink=\"http://www.w3.org/1999/xlink\" width=\"299pt\" height=\"155pt\" viewBox=\"0.00 0.00 299.00 154.50\">\n",
       "<g id=\"graph0\" class=\"graph\" transform=\"scale(1 1) rotate(0) translate(4 150.5)\">\n",
       "<polygon fill=\"white\" stroke=\"none\" points=\"-4,4 -4,-150.5 295,-150.5 295,4 -4,4\"/>\n",
       "<!-- 1 -->\n",
       "<g id=\"node1\" class=\"node\">\n",
       "<title>1</title>\n",
       "<polygon fill=\"none\" stroke=\"black\" points=\"0,-73.5 0,-109.5 291,-109.5 291,-73.5 0,-73.5\"/>\n",
       "<text text-anchor=\"middle\" x=\"12.12\" y=\"-86.45\" font-family=\"Courier,monospace\" font-size=\"14.00\">A</text>\n",
       "<polyline fill=\"none\" stroke=\"black\" points=\"24.25,-73.5 24.25,-109.5\"/>\n",
       "<text text-anchor=\"middle\" x=\"36.38\" y=\"-86.45\" font-family=\"Courier,monospace\" font-size=\"14.00\">T</text>\n",
       "<polyline fill=\"none\" stroke=\"black\" points=\"48.5,-73.5 48.5,-109.5\"/>\n",
       "<text text-anchor=\"middle\" x=\"60.62\" y=\"-86.45\" font-family=\"Courier,monospace\" font-size=\"14.00\">C</text>\n",
       "<polyline fill=\"none\" stroke=\"black\" points=\"72.75,-73.5 72.75,-109.5\"/>\n",
       "<text text-anchor=\"middle\" x=\"84.88\" y=\"-86.45\" font-family=\"Courier,monospace\" font-size=\"14.00\">G</text>\n",
       "<polyline fill=\"none\" stroke=\"black\" points=\"97,-73.5 97,-109.5\"/>\n",
       "<text text-anchor=\"middle\" x=\"109.12\" y=\"-86.45\" font-family=\"Courier,monospace\" font-size=\"14.00\">A</text>\n",
       "<polyline fill=\"none\" stroke=\"black\" points=\"121.25,-73.5 121.25,-109.5\"/>\n",
       "<text text-anchor=\"middle\" x=\"133.38\" y=\"-86.45\" font-family=\"Courier,monospace\" font-size=\"14.00\">T</text>\n",
       "<polyline fill=\"none\" stroke=\"black\" points=\"145.5,-73.5 145.5,-109.5\"/>\n",
       "<text text-anchor=\"middle\" x=\"157.62\" y=\"-86.45\" font-family=\"Courier,monospace\" font-size=\"14.00\">C</text>\n",
       "<polyline fill=\"none\" stroke=\"black\" points=\"169.75,-73.5 169.75,-109.5\"/>\n",
       "<text text-anchor=\"middle\" x=\"181.88\" y=\"-86.45\" font-family=\"Courier,monospace\" font-size=\"14.00\">G</text>\n",
       "<polyline fill=\"none\" stroke=\"black\" points=\"194,-73.5 194,-109.5\"/>\n",
       "<text text-anchor=\"middle\" x=\"206.12\" y=\"-86.45\" font-family=\"Courier,monospace\" font-size=\"14.00\">A</text>\n",
       "<polyline fill=\"none\" stroke=\"black\" points=\"218.25,-73.5 218.25,-109.5\"/>\n",
       "<text text-anchor=\"middle\" x=\"230.38\" y=\"-86.45\" font-family=\"Courier,monospace\" font-size=\"14.00\">T</text>\n",
       "<polyline fill=\"none\" stroke=\"black\" points=\"242.5,-73.5 242.5,-109.5\"/>\n",
       "<text text-anchor=\"middle\" x=\"254.62\" y=\"-86.45\" font-family=\"Courier,monospace\" font-size=\"14.00\">C</text>\n",
       "<polyline fill=\"none\" stroke=\"black\" points=\"266.75,-73.5 266.75,-109.5\"/>\n",
       "<text text-anchor=\"middle\" x=\"278.88\" y=\"-86.45\" font-family=\"Courier,monospace\" font-size=\"14.00\">G</text>\n",
       "</g>\n",
       "<!-- 1&#45;&gt;1 -->\n",
       "<g id=\"edge1\" class=\"edge\">\n",
       "<title>1:7-&gt;1:10</title>\n",
       "<path fill=\"none\" stroke=\"black\" d=\"M177.24,-109.81C176.37,-127.35 185.46,-146.5 218.25,-146.5 244.12,-146.5 255.24,-134.58 258.35,-120.93\"/>\n",
       "<polygon fill=\"black\" stroke=\"black\" points=\"261.81,-121.57 259.14,-111.32 254.84,-121 261.81,-121.57\"/>\n",
       "</g>\n",
       "<!-- 2 -->\n",
       "<g id=\"node2\" class=\"node\">\n",
       "<title>2</title>\n",
       "<polygon fill=\"none\" stroke=\"black\" points=\"59.5,-0.5 59.5,-36.5 113.5,-36.5 113.5,-0.5 59.5,-0.5\"/>\n",
       "<text text-anchor=\"middle\" x=\"72.62\" y=\"-13.45\" font-family=\"Courier,monospace\" font-size=\"14.00\">C</text>\n",
       "<polyline fill=\"none\" stroke=\"black\" points=\"85.75,-0.5 85.75,-36.5\"/>\n",
       "<text text-anchor=\"middle\" x=\"99.38\" y=\"-13.45\" font-family=\"Courier,monospace\" font-size=\"14.00\">G</text>\n",
       "</g>\n",
       "<!-- 1&#45;&gt;2 -->\n",
       "<g id=\"edge2\" class=\"edge\">\n",
       "<title>1:2-&gt;2:0</title>\n",
       "<path fill=\"none\" stroke=\"black\" d=\"M60.62,-73C60.62,-60.75 66.96,-56.2 70.42,-48.16\"/>\n",
       "<polygon fill=\"black\" stroke=\"black\" points=\"73.83,-48.97 72.33,-38.48 66.96,-47.62 73.83,-48.97\"/>\n",
       "</g>\n",
       "<!-- 3 -->\n",
       "<g id=\"node3\" class=\"node\">\n",
       "<title>3</title>\n",
       "<polygon fill=\"none\" stroke=\"black\" points=\"142.5,-0.5 142.5,-36.5 196.5,-36.5 196.5,-0.5 142.5,-0.5\"/>\n",
       "<text text-anchor=\"middle\" x=\"169.12\" y=\"-13.45\" font-family=\"Courier,monospace\" font-size=\"14.00\">A</text>\n",
       "</g>\n",
       "<!-- 1&#45;&gt;3 -->\n",
       "<g id=\"edge3\" class=\"edge\">\n",
       "<title>1:6-&gt;3:0</title>\n",
       "<path fill=\"none\" stroke=\"black\" d=\"M157.62,-73C157.62,-64.81 158.88,-56.08 160.57,-48.06\"/>\n",
       "<polygon fill=\"black\" stroke=\"black\" points=\"163.95,-48.98 162.89,-38.43 157.14,-47.34 163.95,-48.98\"/>\n",
       "</g>\n",
       "<!-- 2&#45;&gt;1 -->\n",
       "<g id=\"edge4\" class=\"edge\">\n",
       "<title>2:1-&gt;1:6</title>\n",
       "<path fill=\"none\" stroke=\"black\" d=\"M99.38,-37C99.38,-62.68 140.84,-48.99 153.8,-62.36\"/>\n",
       "<polygon fill=\"black\" stroke=\"black\" points=\"150.44,-63.35 157.11,-71.58 157.03,-60.98 150.44,-63.35\"/>\n",
       "</g>\n",
       "<!-- 3&#45;&gt;1 -->\n",
       "<g id=\"edge5\" class=\"edge\">\n",
       "<title>3:0-&gt;1:7</title>\n",
       "<path fill=\"none\" stroke=\"black\" d=\"M175.65,-36.92C177.83,-44.18 179.99,-52.87 181.1,-61.6\"/>\n",
       "<polygon fill=\"black\" stroke=\"black\" points=\"177.6,-61.75 181.77,-71.49 184.59,-61.28 177.6,-61.75\"/>\n",
       "</g>\n",
       "</g>\n",
       "</svg>"
      ],
      "text/plain": [
       "<IPython.core.display.SVG object>"
      ]
     },
     "metadata": {},
     "output_type": "display_data"
    }
   ],
   "source": [
    "# Starting sequence\n",
    "G.add_node(1,  sequence_hash = 'h1')\n",
    "\n",
    "# Substitution\n",
    "G.add_node(2, sequence_hash='h2')\n",
    "add_port_edge(G, (1, 2), (2, 0))\n",
    "add_port_edge(G, (2, 1), (1, 6))\n",
    "\n",
    "# Insertion\n",
    "G.add_node(3, sequence_hash='h3')\n",
    "add_port_edge(G, (1, 6), (3, 0)) \n",
    "add_port_edge(G, (3, 0), (1, 7)) \n",
    "\n",
    "# Deletion\n",
    "add_port_edge(G, (1, 7), (1, 10)) \n",
    "\n",
    "draw_port_graph(G)"
   ]
  },
  {
   "cell_type": "markdown",
   "metadata": {},
   "source": [
    "The port graph as described above is an efficient way to represent and combine many operations, but it is less intuitive compared to a pangenome graph where each node is a distinct segment. The latter form is also what graph aware sequence aligners tend to expect. That being said, we can convert a port graph into a segment graph and vice versa without loss of information."
   ]
  },
  {
   "cell_type": "code",
   "execution_count": 23,
   "metadata": {},
   "outputs": [
    {
     "name": "stdout",
     "output_type": "stream",
     "text": [
      "['AT', 'CGAT', 'C', 'GAT', 'CG']\n",
      "['', 'C', 'G']\n",
      "['', 'A']\n"
     ]
    }
   ],
   "source": [
    "# Create a new graph to store the split nodes\n",
    "port_graph = G.copy()\n",
    "segment_graph = nx.DiGraph()\n",
    "\n",
    "# Iterate over all nodes in the graph and split them into segments\n",
    "for node in port_graph.nodes:\n",
    "    # Get ports from incoming and outgoing edges\n",
    "    in_ports = [data['to_pos'] for source, target, data in port_graph.in_edges(node, data=True)]\n",
    "    out_ports = [data['from_pos'] for source, target, data in port_graph.out_edges(node, data=True)]\n",
    "\n",
    "    # Break up the sequence into segments after each out port and before each in port\n",
    "    break_postions = sorted(set(in_ports + out_ports)) # fix this\n",
    "\n",
    "    sequence = sequence_hashes[port_graph.nodes[node]['sequence_hash']]\n",
    "\n",
    "    segments = [sequence[i:j] for i, j in zip([0] + break_postions, break_postions + [None])]\n",
    "    print(segments)\n",
    "\n",
    "# Sort all the ports that are used as inputs and outputs, and break up the sequences appropriately (for outputs immediately after the position, for inputs immediately before)\n",
    "\n",
    "# Create new segment nodes that are addressed by the source segment identifier and a position\n",
    "\n",
    "# Create edges that represent the reference sequence, label them as such\n",
    "\n",
    "# Create new edges from the operation edges\n"
   ]
  },
  {
   "cell_type": "code",
   "execution_count": 15,
   "metadata": {},
   "outputs": [
    {
     "data": {
      "text/plain": [
       "InEdgeDataView([(1, 1, {'from_pos': 7, 'to_pos': 10}), (2, 1, {'from_pos': 1, 'to_pos': 6}), (3, 1, {'from_pos': 0, 'to_pos': 7})])"
      ]
     },
     "execution_count": 15,
     "metadata": {},
     "output_type": "execute_result"
    }
   ],
   "source": [
    "port_graph.in_edges(1,data=True)"
   ]
  },
  {
   "cell_type": "code",
   "execution_count": null,
   "metadata": {},
   "outputs": [],
   "source": []
  }
 ],
 "metadata": {
  "kernelspec": {
   "display_name": ".venv",
   "language": "python",
   "name": "python3"
  },
  "language_info": {
   "codemirror_mode": {
    "name": "ipython",
    "version": 3
   },
   "file_extension": ".py",
   "mimetype": "text/x-python",
   "name": "python",
   "nbconvert_exporter": "python",
   "pygments_lexer": "ipython3",
   "version": "3.12.6"
  }
 },
 "nbformat": 4,
 "nbformat_minor": 2
}
