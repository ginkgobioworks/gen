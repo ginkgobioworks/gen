{
 "cells": [
  {
   "cell_type": "code",
   "execution_count": 43,
   "metadata": {},
   "outputs": [
    {
     "name": "stderr",
     "output_type": "stream",
     "text": [
      "/var/folders/8q/8dmdx6bd2593mlj4l_q1htk80000gn/T/ipykernel_15383/128931876.py:3: DeprecationWarning: Importing display from IPython.core.display is deprecated since IPython 7.14, please import from IPython display\n",
      "  from IPython.core.display import SVG, display\n"
     ]
    }
   ],
   "source": [
    "import networkx\n",
    "import matplotlib.pyplot as plt \n",
    "from IPython.core.display import SVG, display\n",
    "\n",
    "\n"
   ]
  },
  {
   "cell_type": "markdown",
   "metadata": {},
   "source": [
    "Genetic sequences are represented in the form of a port graph in which nodes represent source sequences, and ports represent linear coordinates on that source sequence.\n"
   ]
  },
  {
   "cell_type": "code",
   "execution_count": null,
   "metadata": {},
   "outputs": [],
   "source": []
  },
  {
   "cell_type": "code",
   "execution_count": 71,
   "metadata": {},
   "outputs": [
    {
     "data": {
      "image/svg+xml": [
       "<svg xmlns=\"http://www.w3.org/2000/svg\" xmlns:xlink=\"http://www.w3.org/1999/xlink\" width=\"128pt\" height=\"149pt\" viewBox=\"0.00 0.00 128.10 149.00\">\n",
       "<g id=\"graph0\" class=\"graph\" transform=\"scale(1 1) rotate(0) translate(4 145)\">\n",
       "<polygon fill=\"white\" stroke=\"none\" points=\"-4,4 -4,-145 124.1,-145 124.1,4 -4,4\"/>\n",
       "<!-- 1 -->\n",
       "<g id=\"node1\" class=\"node\">\n",
       "<title>1</title>\n",
       "<ellipse fill=\"none\" stroke=\"black\" cx=\"60.05\" cy=\"-123\" rx=\"60.05\" ry=\"18\"/>\n",
       "<text text-anchor=\"middle\" x=\"60.05\" y=\"-117.95\" font-family=\"Times,serif\" font-size=\"14.00\">ATCGACTG</text>\n",
       "</g>\n",
       "<!-- 2 -->\n",
       "<g id=\"node2\" class=\"node\">\n",
       "<title>2</title>\n",
       "<ellipse fill=\"none\" stroke=\"black\" cx=\"60.05\" cy=\"-18\" rx=\"27\" ry=\"18\"/>\n",
       "<text text-anchor=\"middle\" x=\"60.05\" y=\"-12.95\" font-family=\"Times,serif\" font-size=\"14.00\">XY</text>\n",
       "</g>\n",
       "<!-- 1&#45;&gt;2 -->\n",
       "<g id=\"edge1\" class=\"edge\">\n",
       "<title>1-&gt;2</title>\n",
       "<path fill=\"none\" stroke=\"black\" d=\"M42.62,-105.32C38.14,-99.94 33.92,-93.64 31.55,-87 26.64,-73.18 26.64,-67.82 31.55,-54 33,-49.92 35.15,-45.97 37.64,-42.29\"/>\n",
       "<polygon fill=\"black\" stroke=\"black\" points=\"40.38,-44.46 43.8,-34.43 34.87,-40.14 40.38,-44.46\"/>\n",
       "<text text-anchor=\"middle\" x=\"50.3\" y=\"-73.7\" font-family=\"Times,serif\" font-size=\"14.00\">from:3</text>\n",
       "<text text-anchor=\"middle\" x=\"50.3\" y=\"-57.2\" font-family=\"Times,serif\" font-size=\"14.00\">to:0</text>\n",
       "</g>\n",
       "<!-- 2&#45;&gt;1 -->\n",
       "<g id=\"edge2\" class=\"edge\">\n",
       "<title>2-&gt;1</title>\n",
       "<path fill=\"none\" stroke=\"black\" d=\"M65.32,-35.92C66.84,-41.61 68.3,-48.02 69.05,-54 70.89,-68.55 70.89,-72.45 69.05,-87 68.77,-89.19 68.4,-91.45 67.97,-93.7\"/>\n",
       "<polygon fill=\"black\" stroke=\"black\" points=\"64.6,-92.71 65.76,-103.25 71.42,-94.29 64.6,-92.71\"/>\n",
       "<text text-anchor=\"middle\" x=\"89.18\" y=\"-73.7\" font-family=\"Times,serif\" font-size=\"14.00\">from:1</text>\n",
       "<text text-anchor=\"middle\" x=\"89.18\" y=\"-57.2\" font-family=\"Times,serif\" font-size=\"14.00\">to:5</text>\n",
       "</g>\n",
       "</g>\n",
       "</svg>"
      ],
      "text/plain": [
       "<IPython.core.display.SVG object>"
      ]
     },
     "metadata": {},
     "output_type": "display_data"
    }
   ],
   "source": [
    "# Create an empty graph\n",
    "G = nx.DiGraph()\n",
    "\n",
    "# We store the source sequences as a hash table, they are unique and unassociated with any metadata other than where to find them (drive, url, ...)\n",
    "# For the sake of this example, we don't calculate the hash and use a simple dictionary.\n",
    "sequence_hashes = {'h1': 'ATCGACTG', \n",
    "                   'h2': 'XY', \n",
    "                   'h3': 'Z'}\n",
    "\n",
    "# Sequence nodes are instantiations of source sequences, they do not have to be unique and are well suited to carry metadata.\n",
    "# They are referenced by an identifier that is unique within the graph, let's use an integer for now.\n",
    "G.add_node(1,  sequence_hash = 'h1')\n",
    "\n",
    "# An sequence variant or edit is represented by edges and sequence nodes, \n",
    "# we demonstrate this for a substitution: Replace GA by XY\n",
    "\n",
    "# Add a new sequence node to represent the insert\n",
    "G.add_node(2, sequence_hash='h2')\n",
    "\n",
    "# In a ported graph, edges are defined by the source and target nodes, and the ports on each node.\n",
    "# In this case ports correspond to positions: (source node, from position), (target node, to position)\n",
    "def add_port_edge(graph, source, target):\n",
    "    # We use edge attributes to store the port information:\n",
    "    graph.add_edge(source[0], target[0], from_pos=source[1], to_pos=target[1])\n",
    "\n",
    "# We add two edges between nodes 1 and 2\n",
    "add_port_edge(G, (1, 3), (2, 0)) # From node 1, position 3 to node 2, position 0\n",
    "add_port_edge(G, (2, 1), (1, 5)) # From node 2, position 1 to node 1, position 5\n",
    "\n",
    "# Let's plot the graph\n",
    "def draw_graph(graph):\n",
    "    # Add the actual sequence as node label\n",
    "    for node in graph.nodes:\n",
    "        graph.nodes[node]['label'] = sequence_hashes[graph.nodes[node]['sequence_hash']]\n",
    "    # Add the port information as edge label\n",
    "    for edge in graph.edges:\n",
    "        graph.edges[edge]['label'] = f\"from:{graph.edges[edge]['from_pos']}\\nto:{graph.edges[edge]['to_pos']}\"\n",
    "    # Convert the networkx graph to a pygraphviz graph\n",
    "    graph = nx.nx_agraph.to_agraph(graph)\n",
    "    # Allow multiple edges between the same nodes\n",
    "    graph.graph_attr['multiedges'] = 'true'\n",
    "    # Draw the graph using pygraphviz\n",
    "    fig = SVG(graph.draw(prog='dot', args='-Goverlap=false', format='svg'))\n",
    "    display(fig)\n",
    "\n",
    "draw_graph(G)\n"
   ]
  },
  {
   "cell_type": "code",
   "execution_count": 58,
   "metadata": {},
   "outputs": [
    {
     "name": "stdout",
     "output_type": "stream",
     "text": [
      "(1, 2, {})\n",
      "(2, 1, {})\n"
     ]
    }
   ],
   "source": [
    "for i in graph.edges(data=True):\n",
    "    print(i)"
   ]
  },
  {
   "cell_type": "code",
   "execution_count": 76,
   "metadata": {},
   "outputs": [
    {
     "data": {
      "image/svg+xml": [
       "<svg xmlns=\"http://www.w3.org/2000/svg\" xmlns:xlink=\"http://www.w3.org/1999/xlink\" width=\"406pt\" height=\"382pt\" viewBox=\"0.00 0.00 405.85 381.76\">\n",
       "<g id=\"graph0\" class=\"graph\" transform=\"scale(1 1) rotate(0) translate(4 377.76)\">\n",
       "<polygon fill=\"white\" stroke=\"none\" points=\"-4,4 -4,-377.76 401.85,-377.76 401.85,4 -4,4\"/>\n",
       "<!-- 1 -->\n",
       "<g id=\"node1\" class=\"node\">\n",
       "<title>1</title>\n",
       "<ellipse fill=\"none\" stroke=\"black\" cx=\"125.66\" cy=\"-18\" rx=\"60.05\" ry=\"18\"/>\n",
       "<text text-anchor=\"middle\" x=\"125.66\" y=\"-12.95\" font-family=\"Times,serif\" font-size=\"14.00\">ATCGACTG</text>\n",
       "</g>\n",
       "<!-- (1, 3) -->\n",
       "<g id=\"node2\" class=\"node\">\n",
       "<title>(1, 3)</title>\n",
       "<ellipse fill=\"none\" stroke=\"black\" cx=\"309.01\" cy=\"-38.67\" rx=\"15.52\" ry=\"18\"/>\n",
       "<text text-anchor=\"middle\" x=\"309.01\" y=\"-33.62\" font-family=\"Times,serif\" font-size=\"14.00\">3</text>\n",
       "</g>\n",
       "<!-- 1&#45;&gt;(1, 3) -->\n",
       "<g id=\"edge1\" class=\"edge\">\n",
       "<title>1-&gt;(1, 3)</title>\n",
       "<path fill=\"none\" stroke=\"black\" d=\"M182.42,-24.4C215.65,-28.15 256.08,-32.7 282.16,-35.65\"/>\n",
       "<polygon fill=\"black\" stroke=\"black\" points=\"281.56,-39.1 291.89,-36.74 282.34,-32.14 281.56,-39.1\"/>\n",
       "</g>\n",
       "<!-- (2, 0) -->\n",
       "<g id=\"node5\" class=\"node\">\n",
       "<title>(2, 0)</title>\n",
       "<ellipse fill=\"none\" stroke=\"black\" cx=\"382.32\" cy=\"-207.97\" rx=\"15.52\" ry=\"18\"/>\n",
       "<text text-anchor=\"middle\" x=\"382.32\" y=\"-202.92\" font-family=\"Times,serif\" font-size=\"14.00\">0</text>\n",
       "</g>\n",
       "<!-- (1, 3)&#45;&gt;(2, 0) -->\n",
       "<g id=\"edge3\" class=\"edge\">\n",
       "<title>(1, 3)-&gt;(2, 0)</title>\n",
       "<path fill=\"none\" stroke=\"black\" d=\"M316.18,-55.21C328.85,-84.49 355.35,-145.69 370.68,-181.09\"/>\n",
       "<polygon fill=\"black\" stroke=\"black\" points=\"367.45,-182.43 374.64,-190.22 373.87,-179.65 367.45,-182.43\"/>\n",
       "</g>\n",
       "<!-- 2 -->\n",
       "<g id=\"node3\" class=\"node\">\n",
       "<title>2</title>\n",
       "<ellipse fill=\"none\" stroke=\"black\" cx=\"271.91\" cy=\"-355.76\" rx=\"27\" ry=\"18\"/>\n",
       "<text text-anchor=\"middle\" x=\"271.91\" y=\"-350.71\" font-family=\"Times,serif\" font-size=\"14.00\">XY</text>\n",
       "</g>\n",
       "<!-- (2, 1) -->\n",
       "<g id=\"node4\" class=\"node\">\n",
       "<title>(2, 1)</title>\n",
       "<ellipse fill=\"none\" stroke=\"black\" cx=\"88.53\" cy=\"-335.5\" rx=\"15.52\" ry=\"18\"/>\n",
       "<text text-anchor=\"middle\" x=\"88.53\" y=\"-330.45\" font-family=\"Times,serif\" font-size=\"14.00\">1</text>\n",
       "</g>\n",
       "<!-- 2&#45;&gt;(2, 1) -->\n",
       "<g id=\"edge2\" class=\"edge\">\n",
       "<title>2-&gt;(2, 1)</title>\n",
       "<path fill=\"none\" stroke=\"black\" d=\"M244.85,-352.77C210.09,-348.93 150.12,-342.3 115.44,-338.47\"/>\n",
       "<polygon fill=\"black\" stroke=\"black\" points=\"116.14,-335.03 105.81,-337.41 115.37,-341.98 116.14,-335.03\"/>\n",
       "</g>\n",
       "<!-- (1, 5) -->\n",
       "<g id=\"node6\" class=\"node\">\n",
       "<title>(1, 5)</title>\n",
       "<ellipse fill=\"none\" stroke=\"black\" cx=\"15.52\" cy=\"-166.05\" rx=\"15.52\" ry=\"18\"/>\n",
       "<text text-anchor=\"middle\" x=\"15.52\" y=\"-161\" font-family=\"Times,serif\" font-size=\"14.00\">5</text>\n",
       "</g>\n",
       "<!-- (2, 1)&#45;&gt;(1, 5) -->\n",
       "<g id=\"edge5\" class=\"edge\">\n",
       "<title>(2, 1)-&gt;(1, 5)</title>\n",
       "<path fill=\"none\" stroke=\"black\" d=\"M81.4,-318.94C68.77,-289.63 42.38,-228.38 27.11,-192.95\"/>\n",
       "<polygon fill=\"black\" stroke=\"black\" points=\"30.35,-191.61 23.18,-183.81 23.92,-194.38 30.35,-191.61\"/>\n",
       "</g>\n",
       "<!-- (2, 0)&#45;&gt;2 -->\n",
       "<g id=\"edge4\" class=\"edge\">\n",
       "<title>(2, 0)-&gt;2</title>\n",
       "<path fill=\"none\" stroke=\"black\" d=\"M371.93,-221.87C353.35,-246.75 314.17,-299.2 290.74,-330.56\"/>\n",
       "<polygon fill=\"black\" stroke=\"black\" points=\"288.1,-328.24 284.92,-338.35 293.71,-332.43 288.1,-328.24\"/>\n",
       "</g>\n",
       "<!-- (1, 5)&#45;&gt;1 -->\n",
       "<g id=\"edge6\" class=\"edge\">\n",
       "<title>(1, 5)-&gt;1</title>\n",
       "<path fill=\"none\" stroke=\"black\" d=\"M25.89,-152.12C44.13,-127.59 82.29,-76.31 105.77,-44.74\"/>\n",
       "<polygon fill=\"black\" stroke=\"black\" points=\"108.48,-46.96 111.64,-36.85 102.87,-42.78 108.48,-46.96\"/>\n",
       "</g>\n",
       "</g>\n",
       "</svg>"
      ],
      "text/plain": [
       "<IPython.core.display.SVG object>"
      ]
     },
     "metadata": {},
     "output_type": "display_data"
    }
   ],
   "source": [
    "def draw_graph_ported(graph):\n",
    "    # Create a new graph to store the ported version\n",
    "    port_graph = graph.copy()\n",
    "\n",
    "    # Iterate over the edges of the original graph\n",
    "    for source, target, edge_attrs in graph.edges(data=True):\n",
    "        from_pos = edge_attrs.get('from_pos')\n",
    "        to_pos = edge_attrs.get('to_pos')\n",
    "\n",
    "        # Add port nodes addressed by a (node, position) tuple\n",
    "        port_graph.add_node((source, from_pos), label=from_pos)\n",
    "        port_graph.add_node((target, to_pos), label=to_pos)\n",
    "\n",
    "        # Add edges between the sequence nodes and their ports\n",
    "        port_graph.add_edge(source, (source, from_pos))\n",
    "        port_graph.add_edge((target, to_pos), target)\n",
    "\n",
    "        # Add an edge between the ports and remove the original edge\n",
    "        port_graph.add_edge((source, from_pos), (target, to_pos))\n",
    "        port_graph.remove_edge(source, target)\n",
    "\n",
    "    # Sequence nodes are labeled by sequence, port nodes by position\n",
    "    for node in port_graph.nodes:\n",
    "        if isinstance(node, tuple):\n",
    "            port_graph.nodes[node]['label'] = node[1]\n",
    "            port_graph.nodes[node]['width'] = 0.1\n",
    "            port_graph.nodes[node]['height'] = 0.5\n",
    "        else:\n",
    "            port_graph.nodes[node]['label'] = sequence_hashes[port_graph.nodes[node]['sequence_hash']]\n",
    "\n",
    "    # Convert the networkx graph to a pygraphviz graph\n",
    "    port_graph = nx.nx_agraph.to_agraph(port_graph)\n",
    "    # Allow multiple edges between the same nodes\n",
    "    port_graph.graph_attr['multiedges'] = 'true'\n",
    "    # Draw the graph using pygraphviz\n",
    "    fig = SVG(port_graph.draw(prog='neato', args='-Goverlap=false', format='svg'))\n",
    "    display(fig)\n",
    "\n",
    "draw_graph_ported(G)\n",
    "    \n",
    "\n",
    "    "
   ]
  },
  {
   "cell_type": "code",
   "execution_count": 62,
   "metadata": {},
   "outputs": [
    {
     "data": {
      "image/svg+xml": [
       "<svg xmlns=\"http://www.w3.org/2000/svg\" xmlns:xlink=\"http://www.w3.org/1999/xlink\" width=\"351pt\" height=\"85pt\" viewBox=\"0.00 0.00 350.97 85.38\">\n",
       "<g id=\"graph0\" class=\"graph\" transform=\"scale(1 1) rotate(0) translate(4 81.38)\">\n",
       "<polygon fill=\"white\" stroke=\"none\" points=\"-4,4 -4,-81.38 346.97,-81.38 346.97,4 -4,4\"/>\n",
       "<!-- 1 -->\n",
       "<g id=\"node1\" class=\"node\">\n",
       "<title>1</title>\n",
       "<ellipse fill=\"none\" stroke=\"black\" cx=\"60.05\" cy=\"-59.38\" rx=\"60.05\" ry=\"18\"/>\n",
       "<text text-anchor=\"middle\" x=\"60.05\" y=\"-54.33\" font-family=\"Times,serif\" font-size=\"14.00\">ATCGACTG</text>\n",
       "</g>\n",
       "<!-- 2 -->\n",
       "<g id=\"node2\" class=\"node\">\n",
       "<title>2</title>\n",
       "<ellipse fill=\"none\" stroke=\"black\" cx=\"315.97\" cy=\"-21.14\" rx=\"27\" ry=\"18\"/>\n",
       "<text text-anchor=\"middle\" x=\"315.97\" y=\"-16.09\" font-family=\"Times,serif\" font-size=\"14.00\">XY</text>\n",
       "</g>\n",
       "<!-- 1&#45;&gt;2 -->\n",
       "<g id=\"edge1\" class=\"edge\">\n",
       "<title>1-&gt;2</title>\n",
       "<path fill=\"none\" stroke=\"black\" d=\"M119.62,-56.32C169.38,-50.45 238.68,-39.79 280.26,-31.42\"/>\n",
       "<polygon fill=\"black\" stroke=\"black\" points=\"280.91,-34.86 289.98,-29.38 279.47,-28.01 280.91,-34.86\"/>\n",
       "<text text-anchor=\"middle\" x=\"181.19\" y=\"-63.57\" font-family=\"Times,serif\" font-size=\"14.00\">from:3</text>\n",
       "<text text-anchor=\"middle\" x=\"181.19\" y=\"-47.07\" font-family=\"Times,serif\" font-size=\"14.00\">to:0</text>\n",
       "</g>\n",
       "<!-- 2&#45;&gt;1 -->\n",
       "<g id=\"edge2\" class=\"edge\">\n",
       "<title>2-&gt;1</title>\n",
       "<path fill=\"none\" stroke=\"black\" d=\"M288.91,-20.83C248.1,-24.22 169.89,-35.42 116.36,-45.17\"/>\n",
       "<polygon fill=\"black\" stroke=\"black\" points=\"116.01,-41.67 106.82,-46.95 117.29,-48.56 116.01,-41.67\"/>\n",
       "<text text-anchor=\"middle\" x=\"183.89\" y=\"-19.7\" font-family=\"Times,serif\" font-size=\"14.00\">from:1</text>\n",
       "<text text-anchor=\"middle\" x=\"183.89\" y=\"-3.2\" font-family=\"Times,serif\" font-size=\"14.00\">to:4</text>\n",
       "</g>\n",
       "</g>\n",
       "</svg>"
      ],
      "text/plain": [
       "<IPython.core.display.SVG object>"
      ]
     },
     "metadata": {},
     "output_type": "display_data"
    }
   ],
   "source": [
    "\n",
    "\n",
    "# Edges connect sequence nodes via  ports that represent a position on the sequence between coordinates.\n",
    "# To implement this, I store the positions on the edge itself\n",
    "G.add_edge(1,2, from_pos=3, to_pos=0, label=f'from:{3}\\nto:{0}')\n",
    "G.add_edge(2,1, from_pos=1, to_pos=34, label=f'from:{1}\\nto:{4}')\n",
    "\n",
    "\n",
    "# Draw the graph so that nodes show the source sequences\n",
    "def draw_graph(G):\n",
    "    # Add the actual sequence as label\n",
    "    for node in G.nodes:\n",
    "        G.nodes[node]['label'] = sequence_hashes[G.nodes[node]['sequence_hash']]\n",
    "    # Convert the networkx graph to a pygraphviz graph\n",
    "    G = nx.nx_agraph.to_agraph(G)\n",
    "    # Allow multiple edges between the same nodes\n",
    "    G.graph_attr['multiedges'] = 'true'\n",
    "    \n",
    "    # Draw the graph using matplotlib\n",
    "    fig = SVG(G.draw(prog='neato', args='-Goverlap=false', format='svg'))\n",
    "    display(fig)\n",
    "\n",
    "draw_graph(G)\n",
    "\n"
   ]
  },
  {
   "cell_type": "markdown",
   "metadata": {},
   "source": [
    "Another way to represent a port graph is by drawing the ports as a type of nodes themselves:"
   ]
  },
  {
   "cell_type": "code",
   "execution_count": null,
   "metadata": {},
   "outputs": [],
   "source": [
    "# Create a new empty graph\n",
    "G = nx.DiGraph()\n",
    "\n",
    "# Iterate over the edges of the original graph\n",
    "for source, target, edge_attrs in G.edges(data=True):\n",
    "    # Get the port attributes from the original edge\n",
    "    from_pos = edge_attrs.pop('from_pos')\n",
    "    to_pos = edge_attrs.pop('to_pos')\n",
    "    label = edge_attrs.pop('label')\n",
    "    \n",
    "    # Add a new node representing the port\n",
    "    port_node = len(G) + 1\n",
    "    G.add_node(port_node, label=label)\n",
    "    \n",
    "    # Add edges between the source node and the port node, and between the port node and the target node\n",
    "    G.add_edge(source, port_node)\n",
    "    G.add_edge(port_node, target)\n",
    "    \n",
    "    # Set the attributes of the port node\n",
    "    G.nodes[port_node]['from_pos'] = from_pos\n",
    "    G.nodes[port_node]['to_pos'] = to_pos\n",
    "    \n",
    "# Display the new graph\n",
    "display(SVG(nx.nx_agraph.to_agraph(G).draw(prog='neato', args='-Goverlap=false', format='svg')))"
   ]
  }
 ],
 "metadata": {
  "kernelspec": {
   "display_name": ".venv",
   "language": "python",
   "name": "python3"
  },
  "language_info": {
   "codemirror_mode": {
    "name": "ipython",
    "version": 3
   },
   "file_extension": ".py",
   "mimetype": "text/x-python",
   "name": "python",
   "nbconvert_exporter": "python",
   "pygments_lexer": "ipython3",
   "version": "3.12.6"
  }
 },
 "nbformat": 4,
 "nbformat_minor": 2
}
